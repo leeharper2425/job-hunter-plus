{
 "cells": [
  {
   "cell_type": "code",
   "execution_count": 1,
   "metadata": {
    "collapsed": true
   },
   "outputs": [],
   "source": [
    "import pandas as pd"
   ]
  },
  {
   "cell_type": "code",
   "execution_count": 5,
   "metadata": {},
   "outputs": [],
   "source": [
    "df = pd.read_csv(\"data/indeed_data.csv\")"
   ]
  },
  {
   "cell_type": "code",
   "execution_count": 8,
   "metadata": {},
   "outputs": [
    {
     "name": "stdout",
     "output_type": "stream",
     "text": [
      "<class 'pandas.core.frame.DataFrame'>\n",
      "RangeIndex: 10869 entries, 0 to 10868\n",
      "Data columns (total 9 columns):\n",
      "Unnamed: 0         10869 non-null int64\n",
      "company            10862 non-null object\n",
      "job_description    10869 non-null object\n",
      "job_title          10869 non-null object\n",
      "jobsite            10869 non-null object\n",
      "location           10869 non-null object\n",
      "search_term        10869 non-null object\n",
      "url                10869 non-null object\n",
      "city_term          10869 non-null object\n",
      "dtypes: int64(1), object(8)\n",
      "memory usage: 764.3+ KB\n"
     ]
    }
   ],
   "source": [
    "df.info()"
   ]
  }
 ],
 "metadata": {
  "kernelspec": {
   "display_name": "Python 3",
   "language": "python",
   "name": "python3"
  },
  "language_info": {
   "codemirror_mode": {
    "name": "ipython",
    "version": 3
   },
   "file_extension": ".py",
   "mimetype": "text/x-python",
   "name": "python",
   "nbconvert_exporter": "python",
   "pygments_lexer": "ipython3",
   "version": "3.6.2"
  }
 },
 "nbformat": 4,
 "nbformat_minor": 2
}
