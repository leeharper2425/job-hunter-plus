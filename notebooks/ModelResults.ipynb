{
 "cells": [
  {
   "cell_type": "markdown",
   "metadata": {},
   "source": [
    "# Testing Different Supervised Learning Techniques"
   ]
  },
  {
   "cell_type": "markdown",
   "metadata": {},
   "source": [
    "In this notebook, several different types of supervised learning model are compared using 5-fold cross-validation. The results here are shown for comparison, the parameters of each model have already been tuned.\n",
    "\n",
    "Due to the nature of the problem (looking for small differences on a large corpus of similar words), decision tree ensemble methods are generally more performant than other techniques.\n",
    "\n",
    "Key findings:\n",
    "- Naive Bayes, which normally performs well on NLP problems, is not performant in this case.\n",
    "- The Random Forest method has good out of the box performance\n",
    "- AdaBoost is less performant than Random Forests\n",
    "- Extreme gradient boosting (XG Boost) outperforms other decision tree \n",
    "\n",
    "For reference:\n",
    "- Class 0 = San Francisco\n",
    "- Class 1 = New York\n",
    "- Class 2 = Chicago\n",
    "- Class 3 = Austin"
   ]
  },
  {
   "cell_type": "markdown",
   "metadata": {},
   "source": [
    "### Import modules and data"
   ]
  },
  {
   "cell_type": "code",
   "execution_count": 2,
   "metadata": {
    "collapsed": true
   },
   "outputs": [],
   "source": [
    "from src.utils import import_data\n",
    "from src.build_model import JHPModel\n",
    "import pandas as pd\n",
    "import numpy as np\n",
    "from sklearn.ensemble import RandomForestClassifier\n",
    "from sklearn.naive_bayes import MultinomialNB\n",
    "from sklearn.ensemble import AdaBoostClassifier\n",
    "from xgboost import XGBClassifier\n",
    "import warnings\n",
    "warnings.filterwarnings(\"ignore\")"
   ]
  },
  {
   "cell_type": "code",
   "execution_count": 3,
   "metadata": {
    "collapsed": true
   },
   "outputs": [],
   "source": [
    "df = import_data(\"job-hunter-plus-data\", \"indeed_data.csv\")"
   ]
  },
  {
   "cell_type": "markdown",
   "metadata": {},
   "source": [
    "# Models On All Four Cities"
   ]
  },
  {
   "cell_type": "markdown",
   "metadata": {},
   "source": [
    "### Random Forest"
   ]
  },
  {
   "cell_type": "code",
   "execution_count": 16,
   "metadata": {
    "collapsed": true
   },
   "outputs": [],
   "source": [
    "clf = RandomForestClassifier(n_estimators=200, n_jobs=-1)"
   ]
  },
  {
   "cell_type": "code",
   "execution_count": 18,
   "metadata": {
    "collapsed": true
   },
   "outputs": [],
   "source": [
    "m = JHPModel(clf, stemlem=\"\", min_df=0.01, max_df=0.95, num_cities=4,\n",
    "                 n_grams=(1,2), use_stopwords=True)"
   ]
  },
  {
   "cell_type": "code",
   "execution_count": 27,
   "metadata": {},
   "outputs": [
    {
     "name": "stdout",
     "output_type": "stream",
     "text": [
      "Model Accuracy = 0.7176662266749533\n",
      "Confusion_Matrix:\n",
      "[[ 2380.   656.   125.    47.]\n",
      " [  346.  3752.   149.    36.]\n",
      " [  183.   835.  1175.    56.]\n",
      " [  175.   427.    47.   526.]]\n",
      "Class 0 | Precision = 0.742 | Recall = 0.772 | F1 = 0.757\n",
      "Class 1 | Precision = 0.876 | Recall = 0.662 | F1 = 0.754\n",
      "Class 2 | Precision = 0.522 | Recall = 0.785 | F1 = 0.628\n",
      "Class 3 | Precision = 0.448 | Recall = 0.791 | F1 = 0.572\n"
     ]
    }
   ],
   "source": [
    "m.cross_validate(df)"
   ]
  },
  {
   "cell_type": "markdown",
   "metadata": {},
   "source": [
    "### Naive Bayes"
   ]
  },
  {
   "cell_type": "code",
   "execution_count": 5,
   "metadata": {},
   "outputs": [],
   "source": [
    "clf = MultinomialNB(alpha = 0.1)"
   ]
  },
  {
   "cell_type": "code",
   "execution_count": 6,
   "metadata": {},
   "outputs": [
    {
     "name": "stdout",
     "output_type": "stream",
     "text": [
      "Model Accuracy = 0.5556574578605649\n",
      "Confusion_Matrix:\n",
      "[[ 1949.   894.   330.    30.]\n",
      " [  896.  2971.   606.    59.]\n",
      " [  364.   828.  1004.    44.]\n",
      " [  316.   357.   234.   276.]]\n",
      "Class 0 | Precision = 0.608 | Recall = 0.553 | F1 = 0.579\n",
      "Class 1 | Precision = 0.656 | Recall = 0.588 | F1 = 0.620\n",
      "Class 2 | Precision = 0.448 | Recall = 0.462 | F1 = 0.455\n",
      "Class 3 | Precision = 0.233 | Recall = 0.675 | F1 = 0.347\n"
     ]
    }
   ],
   "source": [
    "m = JHPModel(clf, stemlem=\"\", min_df=0.01, max_df=0.95, num_cities=4,\n",
    "                 n_grams=(1,2), use_stopwords=True)\n",
    "m.cross_validate(df)"
   ]
  },
  {
   "cell_type": "markdown",
   "metadata": {},
   "source": [
    "### XG Boost"
   ]
  },
  {
   "cell_type": "code",
   "execution_count": 8,
   "metadata": {},
   "outputs": [
    {
     "name": "stdout",
     "output_type": "stream",
     "text": [
      "Model Accuracy = 0.7305791158616927\n",
      "Confusion_Matrix:\n",
      "[[ 2376.   531.   222.    61.]\n",
      " [  379.  3758.   330.    50.]\n",
      " [  221.   573.  1380.    72.]\n",
      " [  158.   264.   136.   613.]]\n",
      "Class 0 | Precision = 0.745 | Recall = 0.758 | F1 = 0.751\n",
      "Class 1 | Precision = 0.832 | Recall = 0.733 | F1 = 0.779\n",
      "Class 2 | Precision = 0.614 | Recall = 0.667 | F1 = 0.640\n",
      "Class 3 | Precision = 0.523 | Recall = 0.770 | F1 = 0.623\n"
     ]
    }
   ],
   "source": [
    "clf = XGBClassifier(n_estimators=2000, max_depth=3, learning_rate=0.25, n_jobs=-1)\n",
    "m = JHPModel(clf, stemlem=\"\", min_df=0.01, max_df=0.95, num_cities=4,\n",
    "                 n_grams=(1,2), use_stopwords=True)\n",
    "m.cross_validate(df)"
   ]
  },
  {
   "cell_type": "markdown",
   "metadata": {},
   "source": [
    "### AdaBoost"
   ]
  },
  {
   "cell_type": "code",
   "execution_count": 11,
   "metadata": {},
   "outputs": [
    {
     "name": "stdout",
     "output_type": "stream",
     "text": [
      "Model Accuracy = 0.5975928207496455\n",
      "Confusion_Matrix:\n",
      "[[ 1868.  1104.   181.    40.]\n",
      " [  504.  3625.   341.    56.]\n",
      " [  259.  1140.   791.    61.]\n",
      " [  192.   463.   141.   375.]]\n",
      "Class 0 | Precision = 0.585 | Recall = 0.662 | F1 = 0.621\n",
      "Class 1 | Precision = 0.801 | Recall = 0.572 | F1 = 0.668\n",
      "Class 2 | Precision = 0.351 | Recall = 0.544 | F1 = 0.427\n",
      "Class 3 | Precision = 0.320 | Recall = 0.705 | F1 = 0.440\n"
     ]
    }
   ],
   "source": [
    "clf = AdaBoostClassifier(n_estimators=1000, learning_rate=0.25)\n",
    "m = JHPModel(clf, stemlem=\"\", min_df=0.01, max_df=0.95, num_cities=4,\n",
    "                 n_grams=(1,2), use_stopwords=True)\n",
    "m.cross_validate(df)"
   ]
  },
  {
   "cell_type": "code",
   "execution_count": null,
   "metadata": {
    "collapsed": true
   },
   "outputs": [],
   "source": []
  }
 ],
 "metadata": {
  "kernelspec": {
   "display_name": "Python 3",
   "language": "python",
   "name": "python3"
  },
  "language_info": {
   "codemirror_mode": {
    "name": "ipython",
    "version": 3
   },
   "file_extension": ".py",
   "mimetype": "text/x-python",
   "name": "python",
   "nbconvert_exporter": "python",
   "pygments_lexer": "ipython3",
   "version": "3.6.2"
  }
 },
 "nbformat": 4,
 "nbformat_minor": 2
}
