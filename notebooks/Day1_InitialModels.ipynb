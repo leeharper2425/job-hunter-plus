{
 "cells": [
  {
   "cell_type": "markdown",
   "metadata": {
    "collapsed": true
   },
   "source": [
    "# Initial Model Building"
   ]
  },
  {
   "cell_type": "markdown",
   "metadata": {},
   "source": [
    "Q: Is there a detectable difference between the Indeed.com job descriptions from different cities?\n",
    "\n",
    "This question will be addressed by building an intial model (Naive Bayes) using the text of the job descriptions, and looking for differences between the cities. This first model will be quite naive, and is as much a test of the NLP pipeline as anything else."
   ]
  },
  {
   "cell_type": "code",
   "execution_count": 156,
   "metadata": {
    "collapsed": true
   },
   "outputs": [],
   "source": [
    "from src.utils import import_data\n",
    "from src.data_processing import Processing\n",
    "import pandas as pd\n",
    "import numpy as np\n",
    "from sklearn.naive_bayes import MultinomialNB\n",
    "from sklearn.model_selection import cross_val_score"
   ]
  },
  {
   "cell_type": "code",
   "execution_count": 162,
   "metadata": {},
   "outputs": [],
   "source": [
    "# Build the Naive Bayes model\n",
    "def simple_model(X, y, alpha = 0.01):\n",
    "    model = MultinomialNB(alpha)\n",
    "    m = np.mean(cross_val_score(model, X, y, cv=5))\n",
    "    print(\"Model Accuracy = {:.4}\".format(m))"
   ]
  },
  {
   "cell_type": "code",
   "execution_count": 3,
   "metadata": {
    "collapsed": true
   },
   "outputs": [],
   "source": [
    "df = import_data(\"job-hunter-plus-data\", \"indeed_data.csv\")\n",
    "df2 = df #Make a copy to avoid having to download from the S3 bucket one every run."
   ]
  },
  {
   "cell_type": "code",
   "execution_count": 160,
   "metadata": {},
   "outputs": [
    {
     "name": "stdout",
     "output_type": "stream",
     "text": [
      "Model Accuracy = 0.8169\n"
     ]
    }
   ],
   "source": [
    "# Build a stemmitized TFIDF vectorized feature matrix, with class labels\n",
    "# Two cities (NY, SF)\n",
    "p = Processing(df2, num_cities=2) #Instantiate processing class\n",
    "p.snowball_stemmatizer()\n",
    "p.tfidf_vectorize(min_df = 0.03, max_df = 0.98)\n",
    "X = p.vectorize.transform(p.transformed)\n",
    "y = p.labels\n",
    "simple_model(X,y)"
   ]
  },
  {
   "cell_type": "code",
   "execution_count": 161,
   "metadata": {},
   "outputs": [
    {
     "name": "stdout",
     "output_type": "stream",
     "text": [
      "Model Accuracy = 0.8071\n"
     ]
    }
   ],
   "source": [
    "# Build a lemmatized TFIDF vectorized feature matrix, with class labels\n",
    "# Two cities (NY, SF)\n",
    "p = Processing(df2, num_cities=2) #Instantiate processing class\n",
    "p.wordnet_lemmatizer()\n",
    "p.tfidf_vectorize(min_df = 0.03, max_df = 0.98)\n",
    "X = p.vectorize.transform(p.transformed)\n",
    "y = p.labels\n",
    "simple_model(X, y)"
   ]
  },
  {
   "cell_type": "code",
   "execution_count": 176,
   "metadata": {},
   "outputs": [
    {
     "name": "stdout",
     "output_type": "stream",
     "text": [
      "Model Accuracy = 0.7293\n"
     ]
    }
   ],
   "source": [
    "# Build a stemmitized TFIDF vectorized feature matrix, with class labels\n",
    "# Three cities (NY, SF, Chicago)\n",
    "p = Processing(df2, num_cities=3) #Instantiate processing class\n",
    "p.snowball_stemmatizer()\n",
    "p.tfidf_vectorize(min_df = 0.03, max_df = 0.98)\n",
    "X = p.vectorize.transform(p.transformed)\n",
    "y = p.labels\n",
    "simple_model(X,y)"
   ]
  },
  {
   "cell_type": "markdown",
   "metadata": {},
   "source": [
    "So, in conlusion, there is compelling evidence that there are differences between job descriptions in different cities, and these can be used to build predictive models that have reasonable out of the box accuracy, considering the nature of the data that is being used.\n",
    "\n",
    "From these initial results, it appears that a snowball stemmitization, followed by tokenization prior to TFIDF might be a good methodology to use."
   ]
  }
 ],
 "metadata": {
  "kernelspec": {
   "display_name": "Python 3",
   "language": "python",
   "name": "python3"
  },
  "language_info": {
   "codemirror_mode": {
    "name": "ipython",
    "version": 3
   },
   "file_extension": ".py",
   "mimetype": "text/x-python",
   "name": "python",
   "nbconvert_exporter": "python",
   "pygments_lexer": "ipython3",
   "version": "3.6.2"
  }
 },
 "nbformat": 4,
 "nbformat_minor": 2
}
