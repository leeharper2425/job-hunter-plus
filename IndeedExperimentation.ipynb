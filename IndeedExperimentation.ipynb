{
 "cells": [
  {
   "cell_type": "markdown",
   "metadata": {},
   "source": [
    "# Experimentation with web scraping Indeed"
   ]
  },
  {
   "cell_type": "code",
   "execution_count": 1,
   "metadata": {
    "collapsed": true
   },
   "outputs": [],
   "source": [
    "import requests\n",
    "from bs4 import BeautifulSoup\n",
    "import pandas as pd"
   ]
  },
  {
   "cell_type": "code",
   "execution_count": 213,
   "metadata": {
    "collapsed": true
   },
   "outputs": [],
   "source": [
    "url = \"https://www.indeed.com/jobs?q=data+scientist+intern&l=austin&radius=50&sort=date\"\n"
   ]
  },
  {
   "cell_type": "code",
   "execution_count": 214,
   "metadata": {
    "collapsed": true
   },
   "outputs": [],
   "source": [
    "page = requests.get(url)"
   ]
  },
  {
   "cell_type": "code",
   "execution_count": 215,
   "metadata": {
    "collapsed": true
   },
   "outputs": [],
   "source": [
    "soup = BeautifulSoup(page.text, \"html.parser\")"
   ]
  },
  {
   "cell_type": "code",
   "execution_count": 217,
   "metadata": {},
   "outputs": [
    {
     "data": {
      "text/plain": [
       "False"
      ]
     },
     "execution_count": 217,
     "metadata": {},
     "output_type": "execute_result"
    }
   ],
   "source": [
    "\"Previous\" in soup.find(name=\"span\", attrs={\"class\": \"np\"}).text"
   ]
  },
  {
   "cell_type": "code",
   "execution_count": 75,
   "metadata": {
    "collapsed": true
   },
   "outputs": [],
   "source": [
    "n_jobs = c.split(\" \")[-2]"
   ]
  },
  {
   "cell_type": "code",
   "execution_count": 79,
   "metadata": {},
   "outputs": [
    {
     "data": {
      "text/plain": [
       "5379"
      ]
     },
     "execution_count": 79,
     "metadata": {},
     "output_type": "execute_result"
    }
   ],
   "source": [
    "int((n_jobs).replace(\",\", \"\"))"
   ]
  },
  {
   "cell_type": "code",
   "execution_count": 119,
   "metadata": {
    "scrolled": true
   },
   "outputs": [
    {
     "name": "stdout",
     "output_type": "stream",
     "text": [
      "Business Intelligence Analyst\n",
      "USAA\n",
      "San Antonio, TX 78288\n",
      "/pagead/clk?mo=r&ad=-6NYlbfkN0CAlkOQ68lM1c9i6UFrT9KS7Op1QrxrLywTI0eT6e8eGfiiKpoOf69_Jpa835vdr53UNL9gsKdj0F0_gvZlf2XCONu5fsPsFWsTUxUkTWGa_6fyLq5OLcdXVQykSJL3PCZ2HtudMyizZn-FtYOOmakJ1vdaE_cQsh6ULNGA4XZ6DJyM83Inc3WnmWfnj3ZQ59JMlDDoCKTnf4dj_IIVfDjjy5HwE8QxZBCkQOO_k_BcIsGMSJVoMIGkJyPVuAL8eMLFQnRF9c5m76MVZdX1MF7CuEdnrSLQ5IVthwNKyEv8uqjE2qFyHitQEZ-vhwTk4FkpbMybKvoTu_TrfBGF0GRcgslXsHq3SKYJ1o8RO3xku62hOM5TM3zslgnmjOE6WuDSc-5GwpvSPDH5AVRQWN9cN72W_RP-2JK5FkVdpwbzHbug3fBN55QcXkj536kQtBS8Uh4bKANiUhiQ_qRIs5g1GGVsE4fXSpPaXoEypVKyBWdJlxhWqL6ITpUFf_yiUI9ufWugFnPYCbA_p-nItsvyXi_g0zh2Re-7d-dQOQJvCaLTsXyw6-u51ld0TrMjCPa7OElyUbfk2Uwn0khDh2QOQXmwcu1j9ZnohkPGV1YsLkM-oz8ACgH_7PvTKo43h7dH1wzj5uy3mgjO572lw_-xrI1-2mpdePaK7lybfutdNq7RYeRsOgEk235bE8DRCcjAtuKbZLUBnjqzW3z6kPejn9zfWOuCB9P6niVpLGpZs7q7zRTbh2kygmOvaUmTUq0hZY1Vyfg3zDLZ1CB2_KkZVcQoIYCHTI9tC6g_fDID0nmuXH2KFRL1QeSBP2SpAkAx4zg8rs7eLOOov5YrWBwCl8ikQSZqXDB71Dt_t0cJ-loMkhptAVHDc7HW60Gs7KZNS3CbgpDID_SLE1mdQJTz-qqofJ-45RjY_NKgHQfaspxiumXXbXdaYfxzj8EpYlpuMkA4QtNXjmAFgb2XS05McN8CLg0K0Iy_5sn8NCxqFG48cyQDUwLHSZLDvk79DGe-DucdpgFX_ngzwhF9DFX6ldiLLVTCaUJmguPYFX4Yp1s7s9d6YlJo&p=1&sk=&fvj=0\n",
      "<div class=\"row sjlast result\" data-advn=\"4200170873456140\" data-jk=\"f801f0ed484a07ec\" id=\"pj_f801f0ed484a07ec\">\n",
      "<a class=\"jobtitle turnstileLink\" data-tn-element=\"jobTitle\" href=\"/pagead/clk?mo=r&amp;ad=-6NYlbfkN0CAlkOQ68lM1c9i6UFrT9KS7Op1QrxrLywTI0eT6e8eGfiiKpoOf69_Jpa835vdr53UNL9gsKdj0F0_gvZlf2XCONu5fsPsFWsTUxUkTWGa_6fyLq5OLcdXVQykSJL3PCZ2HtudMyizZn-FtYOOmakJ1vdaE_cQsh6ULNGA4XZ6DJyM83Inc3WnmWfnj3ZQ59JMlDDoCKTnf4dj_IIVfDjjy5HwE8QxZBCkQOO_k_BcIsGMSJVoMIGkJyPVuAL8eMLFQnRF9c5m76MVZdX1MF7CuEdnrSLQ5IVthwNKyEv8uqjE2qFyHitQEZ-vhwTk4FkpbMybKvoTu_TrfBGF0GRcgslXsHq3SKYJ1o8RO3xku62hOM5TM3zslgnmjOE6WuDSc-5GwpvSPDH5AVRQWN9cN72W_RP-2JK5FkVdpwbzHbug3fBN55QcXkj536kQtBS8Uh4bKANiUhiQ_qRIs5g1GGVsE4fXSpPaXoEypVKyBWdJlxhWqL6ITpUFf_yiUI9ufWugFnPYCbA_p-nItsvyXi_g0zh2Re-7d-dQOQJvCaLTsXyw6-u51ld0TrMjCPa7OElyUbfk2Uwn0khDh2QOQXmwcu1j9ZnohkPGV1YsLkM-oz8ACgH_7PvTKo43h7dH1wzj5uy3mgjO572lw_-xrI1-2mpdePaK7lybfutdNq7RYeRsOgEk235bE8DRCcjAtuKbZLUBnjqzW3z6kPejn9zfWOuCB9P6niVpLGpZs7q7zRTbh2kygmOvaUmTUq0hZY1Vyfg3zDLZ1CB2_KkZVcQoIYCHTI9tC6g_fDID0nmuXH2KFRL1QeSBP2SpAkAx4zg8rs7eLOOov5YrWBwCl8ikQSZqXDB71Dt_t0cJ-loMkhptAVHDc7HW60Gs7KZNS3CbgpDID_SLE1mdQJTz-qqofJ-45RjY_NKgHQfaspxiumXXbXdaYfxzj8EpYlpuMkA4QtNXjmAFgb2XS05McN8CLg0K0Iy_5sn8NCxqFG48cyQDUwLHSZLDvk79DGe-DucdpgFX_ngzwhF9DFX6ldiLLVTCaUJmguPYFX4Yp1s7s9d6YlJo&amp;p=1&amp;sk=&amp;fvj=0\" id=\"sja1\" onclick=\"setRefineByCookie(['radius']); sjoc('sja1',0); convCtr('SJ')\" onmousedown=\"sjomd('sja1'); clk('sja1');\" rel=\"noopener nofollow\" target=\"_blank\" title=\"Business Intelligence Analyst\">Business Intelligence Analyst</a>\n",
      "<br/>\n",
      "<div class=\"sjcl\">\n",
      "<span class=\"company\">\n",
      "<a class=\"turnstileLink\" data-tn-element=\"companyName\" href=\"/cmp/Usaa\" onmousedown=\"this.href = appendParamsOnce(this.href, 'from=SERP&amp;campaignid=serp-linkcompanyname&amp;fromjk=f801f0ed484a07ec&amp;jcid=3a1edc2d763c4288')\" rel=\"noopener\" target=\"_blank\">\n",
      "    USAA</a></span>\n",
      "\n",
      " - <a class=\"ratingsLabel\" data-tn-element=\"reviewStars\" data-tn-variant=\"cmplinktst2\" href=\"/cmp/Usaa/reviews\" onmousedown=\"this.href = appendParamsOnce(this.href, '?campaignid=cmplinktst2&amp;from=SERP&amp;jt=Business+Intelligence+Analyst&amp;fromjk=f801f0ed484a07ec&amp;jcid=3a1edc2d763c4288');\" rel=\"noopener\" target=\"_blank\" title=\"Usaa reviews\">\n",
      "<span class=\"ratings\"><span class=\"rating\" style=\"width:51.0px\"><!-- --></span></span>\n",
      "<span class=\"slNoUnderline\">1,107 reviews</span></a>\n",
      " - <span class=\"location\">San Antonio, TX 78288</span>\n",
      "</div>\n",
      "<div class=\"\">\n",
      "<table border=\"0\" cellpadding=\"0\" cellspacing=\"0\"><tr><td class=\"snip\">\n",
      "<span class=\"summary\">\n",
      "                            Utilizes basic knowledge of multiple <b>data</b> structures and sources to support the development and implementation of decision support solutions, which may include...</span>\n",
      "</td></tr></table>\n",
      "</div>\n",
      "<div class=\"sjCapt\">\n",
      "<div class=\"result-link-bar-container\">\n",
      "<div class=\"result-link-bar\"><span class=\" sponsoredGray \">Sponsored</span> - <span class=\"date\">Just posted</span> <span class=\"tt_set\" id=\"tt_set_10\">  -  <a class=\"sl resultLink save-job-link \" href=\"#\" id=\"sj_f801f0ed484a07ec\" onclick=\"changeJobState('f801f0ed484a07ec', 'save', 'linkbar', true, ''); return false;\" title=\"Save this job to my.indeed\">save job</a></span><div class=\"edit_note_content\" id=\"editsaved2_f801f0ed484a07ec\" style=\"display:none;\"></div><script>if (!window['sj_result_f801f0ed484a07ec']) {window['sj_result_f801f0ed484a07ec'] = {};}window['sj_result_f801f0ed484a07ec']['showSource'] = false; window['sj_result_f801f0ed484a07ec']['source'] = \"USAA\"; window['sj_result_f801f0ed484a07ec']['loggedIn'] = false; window['sj_result_f801f0ed484a07ec']['showMyJobsLinks'] = false;window['sj_result_f801f0ed484a07ec']['undoAction'] = \"unsave\";window['sj_result_f801f0ed484a07ec']['relativeJobAge'] = \"Just posted\";window['sj_result_f801f0ed484a07ec']['jobKey'] = \"f801f0ed484a07ec\"; window['sj_result_f801f0ed484a07ec']['myIndeedAvailable'] = true; window['sj_result_f801f0ed484a07ec']['showMoreActionsLink'] = false; window['sj_result_f801f0ed484a07ec']['resultNumber'] = 10; window['sj_result_f801f0ed484a07ec']['jobStateChangedToSaved'] = false; window['sj_result_f801f0ed484a07ec']['searchState'] = \"q=data&amp;l=austin&amp;sort=date&amp;radius=50\"; window['sj_result_f801f0ed484a07ec']['basicPermaLink'] = \"https://www.indeed.com\"; window['sj_result_f801f0ed484a07ec']['saveJobFailed'] = false; window['sj_result_f801f0ed484a07ec']['removeJobFailed'] = false; window['sj_result_f801f0ed484a07ec']['requestPending'] = false; window['sj_result_f801f0ed484a07ec']['notesEnabled'] = false; window['sj_result_f801f0ed484a07ec']['currentPage'] = \"serp\"; window['sj_result_f801f0ed484a07ec']['sponsored'] = true;window['sj_result_f801f0ed484a07ec']['showSponsor'] = true;window['sj_result_f801f0ed484a07ec']['reportJobButtonEnabled'] = false; window['sj_result_f801f0ed484a07ec']['showMyJobsHired'] = false; window['sj_result_f801f0ed484a07ec']['showSaveForSponsored'] = true; window['sj_result_f801f0ed484a07ec']['showJobAge'] = true;</script></div></div>\n",
      "<div class=\"tab-container\">\n",
      "<div class=\"sign-in-container result-tab\"></div>\n",
      "<div class=\"tellafriend-container result-tab email_job_content\"></div>\n",
      "</div>\n",
      "</div>\n",
      "</div>\n"
     ]
    }
   ],
   "source": [
    "for div in soup.find_all(name=\"div\", attrs={\"class\":\"row\"}):\n",
    "    #Job titles\n",
    "    a = div.find(name=\"a\", attrs={\"data-tn-element\":\"jobTitle\"})\n",
    "    print(a[\"title\"])\n",
    "    #Company names \n",
    "    company = div.find(name=\"span\", attrs={\"class\":\"company\"})\n",
    "    a = div.find(name = \"a\", attrs = {\"data-tn-element\": \"companyName\"})\n",
    "    if not a:\n",
    "        print(' '.join(company.text.split()))\n",
    "    else:\n",
    "        print(' '.join(a.text.split()))\n",
    "    # Locations\n",
    "    location = company = div.find(name=\"span\", attrs={\"class\":\"location\"})\n",
    "    print(location.text)\n",
    "    #URL\n",
    "    a = div.find(name=\"a\", attrs={\"data-tn-element\":\"jobTitle\"})\n",
    "    print(a[\"href\"])\n",
    "    print(div)\n",
    "    break\n"
   ]
  },
  {
   "cell_type": "code",
   "execution_count": 238,
   "metadata": {},
   "outputs": [
    {
     "data": {
      "text/plain": [
       "<span class=\"np\">Next »</span>"
      ]
     },
     "execution_count": 238,
     "metadata": {},
     "output_type": "execute_result"
    }
   ],
   "source": [
    "d = soup.find(name=\"span\", attrs={\"class\":\"np\"})\n",
    "d"
   ]
  },
  {
   "cell_type": "code",
   "execution_count": 240,
   "metadata": {},
   "outputs": [
    {
     "data": {
      "text/plain": [
       "'/jobs?q=data+scientist+intern&l=austin&radius=50&sort=date&start=10'"
      ]
     },
     "execution_count": 240,
     "metadata": {},
     "output_type": "execute_result"
    }
   ],
   "source": [
    "d = soup.find(name=\"div\", attrs={\"class\": \"pagination\"})\n",
    "d.find_all(\"a\")[-1][\"href\"]"
   ]
  },
  {
   "cell_type": "code",
   "execution_count": 239,
   "metadata": {
    "scrolled": true
   },
   "outputs": [
    {
     "name": "stdout",
     "output_type": "stream",
     "text": [
      "<span class=\"np\">Next »</span>\n"
     ]
    }
   ],
   "source": [
    "d.find_all(\"a\")\n",
    "#len(d.find_all(\"a\"))\n",
    "#d= d.find_all(\"a\")[-1][\"href\"]\n",
    "#e = d.find(name=\"span\", attrs={\"class\":\"np\"})\n",
    "print(d)"
   ]
  },
  {
   "cell_type": "code",
   "execution_count": 5,
   "metadata": {
    "collapsed": true
   },
   "outputs": [],
   "source": [
    "import pandas as pd"
   ]
  },
  {
   "cell_type": "code",
   "execution_count": 12,
   "metadata": {},
   "outputs": [],
   "source": [
    "df = pd.DataFrame(columns = [\"job_title\", \"location\", \"company\", \"url\", \"jobsite\"])"
   ]
  },
  {
   "cell_type": "code",
   "execution_count": 13,
   "metadata": {
    "collapsed": true
   },
   "outputs": [],
   "source": [
    "df.to_csv(\"data/listings_data.csv\",index=False)"
   ]
  },
  {
   "cell_type": "code",
   "execution_count": 15,
   "metadata": {
    "collapsed": true
   },
   "outputs": [],
   "source": [
    "df2 = pd.read_csv(\"data/listings_data.csv\")"
   ]
  },
  {
   "cell_type": "code",
   "execution_count": 16,
   "metadata": {
    "scrolled": true
   },
   "outputs": [
    {
     "data": {
      "text/html": [
       "<div>\n",
       "<style>\n",
       "    .dataframe thead tr:only-child th {\n",
       "        text-align: right;\n",
       "    }\n",
       "\n",
       "    .dataframe thead th {\n",
       "        text-align: left;\n",
       "    }\n",
       "\n",
       "    .dataframe tbody tr th {\n",
       "        vertical-align: top;\n",
       "    }\n",
       "</style>\n",
       "<table border=\"1\" class=\"dataframe\">\n",
       "  <thead>\n",
       "    <tr style=\"text-align: right;\">\n",
       "      <th></th>\n",
       "      <th>job_title</th>\n",
       "      <th>location</th>\n",
       "      <th>company</th>\n",
       "      <th>url</th>\n",
       "      <th>jobsite</th>\n",
       "    </tr>\n",
       "  </thead>\n",
       "  <tbody>\n",
       "  </tbody>\n",
       "</table>\n",
       "</div>"
      ],
      "text/plain": [
       "Empty DataFrame\n",
       "Columns: [job_title, location, company, url, jobsite]\n",
       "Index: []"
      ]
     },
     "execution_count": 16,
     "metadata": {},
     "output_type": "execute_result"
    }
   ],
   "source": [
    "df2"
   ]
  },
  {
   "cell_type": "code",
   "execution_count": 165,
   "metadata": {
    "collapsed": true
   },
   "outputs": [],
   "source": [
    "x = None"
   ]
  },
  {
   "cell_type": "code",
   "execution_count": 168,
   "metadata": {},
   "outputs": [
    {
     "name": "stdout",
     "output_type": "stream",
     "text": [
      "Helo\n"
     ]
    }
   ],
   "source": [
    "if not x:\n",
    "    print(\"Helo\")"
   ]
  },
  {
   "cell_type": "code",
   "execution_count": 203,
   "metadata": {},
   "outputs": [
    {
     "data": {
      "text/html": [
       "<div>\n",
       "<style>\n",
       "    .dataframe thead tr:only-child th {\n",
       "        text-align: right;\n",
       "    }\n",
       "\n",
       "    .dataframe thead th {\n",
       "        text-align: left;\n",
       "    }\n",
       "\n",
       "    .dataframe tbody tr th {\n",
       "        vertical-align: top;\n",
       "    }\n",
       "</style>\n",
       "<table border=\"1\" class=\"dataframe\">\n",
       "  <thead>\n",
       "    <tr style=\"text-align: right;\">\n",
       "      <th></th>\n",
       "      <th>company</th>\n",
       "      <th>job_title</th>\n",
       "      <th>location</th>\n",
       "      <th>url</th>\n",
       "    </tr>\n",
       "  </thead>\n",
       "  <tbody>\n",
       "    <tr>\n",
       "      <th>0</th>\n",
       "      <td>USAA</td>\n",
       "      <td>Business Intelligence Analyst</td>\n",
       "      <td>San Antonio TX 78288</td>\n",
       "      <td>/pagead/clk?mo=r&amp;ad=-6NYlbfkN0CAlkOQ68lM1c9i6U...</td>\n",
       "    </tr>\n",
       "    <tr>\n",
       "      <th>0</th>\n",
       "      <td>Adaptivestack Technologies Inc.</td>\n",
       "      <td>Electronic Data Interchange (EDI) Business Ana...</td>\n",
       "      <td>Austin TX</td>\n",
       "      <td>/company/Adaptivestack-Technologies-Inc./jobs/...</td>\n",
       "    </tr>\n",
       "    <tr>\n",
       "      <th>0</th>\n",
       "      <td>Simple [A]</td>\n",
       "      <td>QA Engineer / QA Analyst (remote)</td>\n",
       "      <td>Austin TX 78701 (Downtown area)</td>\n",
       "      <td>/rc/clk?jk=62e89d4367865679&amp;fccid=d271b8ad811e...</td>\n",
       "    </tr>\n",
       "    <tr>\n",
       "      <th>0</th>\n",
       "      <td>Advanced Micro Devices Inc.</td>\n",
       "      <td>Sr. Business Analyst</td>\n",
       "      <td>Austin TX</td>\n",
       "      <td>/rc/clk?jk=0ec31aa7e9a539b7&amp;fccid=b45c4b5a9c9a...</td>\n",
       "    </tr>\n",
       "    <tr>\n",
       "      <th>0</th>\n",
       "      <td>Google</td>\n",
       "      <td>Sales Engineering Manager Shared Services Goog...</td>\n",
       "      <td>Austin TX</td>\n",
       "      <td>/rc/clk?jk=fa6e92598f23922e&amp;fccid=a5b4499d9e91...</td>\n",
       "    </tr>\n",
       "    <tr>\n",
       "      <th>0</th>\n",
       "      <td>Central Waste Management</td>\n",
       "      <td>On-Call Trash Service Valet - TRUCK REQUIRED -...</td>\n",
       "      <td>Austin TX 78750</td>\n",
       "      <td>/company/Central-Waste-Management/jobs/Call-Tr...</td>\n",
       "    </tr>\n",
       "    <tr>\n",
       "      <th>0</th>\n",
       "      <td>Spectrum</td>\n",
       "      <td>Mgr Network Engineering</td>\n",
       "      <td>Austin TX</td>\n",
       "      <td>/rc/clk?jk=61a2811db9e0bb9e&amp;fccid=c2d1b0769a53...</td>\n",
       "    </tr>\n",
       "    <tr>\n",
       "      <th>0</th>\n",
       "      <td>IBM</td>\n",
       "      <td>Data Security Consultant</td>\n",
       "      <td>Austin TX 73344</td>\n",
       "      <td>/rc/clk?jk=04c2935876648d8d&amp;fccid=de71a49b535e...</td>\n",
       "    </tr>\n",
       "    <tr>\n",
       "      <th>0</th>\n",
       "      <td>IBM</td>\n",
       "      <td>Research Staff Member Artificial Intelligence</td>\n",
       "      <td>Austin TX 73344</td>\n",
       "      <td>/rc/clk?jk=1d82d66876b6d203&amp;fccid=de71a49b535e...</td>\n",
       "    </tr>\n",
       "    <tr>\n",
       "      <th>0</th>\n",
       "      <td>IBM</td>\n",
       "      <td>Associate Partner Advanced Analytics/Data Science</td>\n",
       "      <td>Austin TX 73344</td>\n",
       "      <td>/rc/clk?jk=61c9e8394c055ecc&amp;fccid=de71a49b535e...</td>\n",
       "    </tr>\n",
       "    <tr>\n",
       "      <th>0</th>\n",
       "      <td>IBM</td>\n",
       "      <td>Healthcare - Research Staff Member Artificial ...</td>\n",
       "      <td>Austin TX 73344</td>\n",
       "      <td>/rc/clk?jk=77931a185b54b8b9&amp;fccid=de71a49b535e...</td>\n",
       "    </tr>\n",
       "    <tr>\n",
       "      <th>0</th>\n",
       "      <td>Accenture</td>\n",
       "      <td>ETL - Data Management Specialist - Austin TX o...</td>\n",
       "      <td>Austin TX</td>\n",
       "      <td>/pagead/clk?mo=r&amp;ad=-6NYlbfkN0CV4holdffd831ZKQ...</td>\n",
       "    </tr>\n",
       "    <tr>\n",
       "      <th>0</th>\n",
       "      <td>Teacher Retirement System of Texas</td>\n",
       "      <td>Data Analytics Analyst or SR Data Analytics An...</td>\n",
       "      <td>Austin TX</td>\n",
       "      <td>/pagead/clk?mo=r&amp;ad=-6NYlbfkN0A-4NqhFQaKCxuVMi...</td>\n",
       "    </tr>\n",
       "    <tr>\n",
       "      <th>0</th>\n",
       "      <td>Confidentiale</td>\n",
       "      <td>Excel Expert (Data Analyst)</td>\n",
       "      <td>San Antonio TX</td>\n",
       "      <td>/pagead/clk?mo=r&amp;ad=-6NYlbfkN0AAIEZtPHxc8ki6YU...</td>\n",
       "    </tr>\n",
       "  </tbody>\n",
       "</table>\n",
       "</div>"
      ],
      "text/plain": [
       "                              company  \\\n",
       "0                                USAA   \n",
       "0     Adaptivestack Technologies Inc.   \n",
       "0                          Simple [A]   \n",
       "0         Advanced Micro Devices Inc.   \n",
       "0                              Google   \n",
       "0            Central Waste Management   \n",
       "0                            Spectrum   \n",
       "0                                 IBM   \n",
       "0                                 IBM   \n",
       "0                                 IBM   \n",
       "0                                 IBM   \n",
       "0                           Accenture   \n",
       "0  Teacher Retirement System of Texas   \n",
       "0                       Confidentiale   \n",
       "\n",
       "                                           job_title  \\\n",
       "0                      Business Intelligence Analyst   \n",
       "0  Electronic Data Interchange (EDI) Business Ana...   \n",
       "0                  QA Engineer / QA Analyst (remote)   \n",
       "0                               Sr. Business Analyst   \n",
       "0  Sales Engineering Manager Shared Services Goog...   \n",
       "0  On-Call Trash Service Valet - TRUCK REQUIRED -...   \n",
       "0                            Mgr Network Engineering   \n",
       "0                           Data Security Consultant   \n",
       "0      Research Staff Member Artificial Intelligence   \n",
       "0  Associate Partner Advanced Analytics/Data Science   \n",
       "0  Healthcare - Research Staff Member Artificial ...   \n",
       "0  ETL - Data Management Specialist - Austin TX o...   \n",
       "0  Data Analytics Analyst or SR Data Analytics An...   \n",
       "0                        Excel Expert (Data Analyst)   \n",
       "\n",
       "                          location  \\\n",
       "0             San Antonio TX 78288   \n",
       "0                        Austin TX   \n",
       "0  Austin TX 78701 (Downtown area)   \n",
       "0                        Austin TX   \n",
       "0                        Austin TX   \n",
       "0                  Austin TX 78750   \n",
       "0                        Austin TX   \n",
       "0                  Austin TX 73344   \n",
       "0                  Austin TX 73344   \n",
       "0                  Austin TX 73344   \n",
       "0                  Austin TX 73344   \n",
       "0                        Austin TX   \n",
       "0                        Austin TX   \n",
       "0                   San Antonio TX   \n",
       "\n",
       "                                                 url  \n",
       "0  /pagead/clk?mo=r&ad=-6NYlbfkN0CAlkOQ68lM1c9i6U...  \n",
       "0  /company/Adaptivestack-Technologies-Inc./jobs/...  \n",
       "0  /rc/clk?jk=62e89d4367865679&fccid=d271b8ad811e...  \n",
       "0  /rc/clk?jk=0ec31aa7e9a539b7&fccid=b45c4b5a9c9a...  \n",
       "0  /rc/clk?jk=fa6e92598f23922e&fccid=a5b4499d9e91...  \n",
       "0  /company/Central-Waste-Management/jobs/Call-Tr...  \n",
       "0  /rc/clk?jk=61a2811db9e0bb9e&fccid=c2d1b0769a53...  \n",
       "0  /rc/clk?jk=04c2935876648d8d&fccid=de71a49b535e...  \n",
       "0  /rc/clk?jk=1d82d66876b6d203&fccid=de71a49b535e...  \n",
       "0  /rc/clk?jk=61c9e8394c055ecc&fccid=de71a49b535e...  \n",
       "0  /rc/clk?jk=77931a185b54b8b9&fccid=de71a49b535e...  \n",
       "0  /pagead/clk?mo=r&ad=-6NYlbfkN0CV4holdffd831ZKQ...  \n",
       "0  /pagead/clk?mo=r&ad=-6NYlbfkN0A-4NqhFQaKCxuVMi...  \n",
       "0  /pagead/clk?mo=r&ad=-6NYlbfkN0AAIEZtPHxc8ki6YU...  "
      ]
     },
     "execution_count": 203,
     "metadata": {},
     "output_type": "execute_result"
    }
   ],
   "source": [
    "dtf = df\n",
    "for div in soup.find_all(name=\"div\", attrs={\"class\": \"row\"}):\n",
    "    listing = get_listing_info(div)\n",
    "    other = pd.DataFrame(listing)\n",
    "    dtf = dtf.append(other)\n",
    "dtf"
   ]
  },
  {
   "cell_type": "code",
   "execution_count": null,
   "metadata": {
    "collapsed": true
   },
   "outputs": [],
   "source": []
  },
  {
   "cell_type": "code",
   "execution_count": 202,
   "metadata": {
    "collapsed": true
   },
   "outputs": [],
   "source": [
    "def get_listing_info(div):\n",
    "    \"\"\"\n",
    "    Get the results of scraping a single listings job listing.\n",
    "    :param div: the contents of a single listing's div tag\n",
    "    :return: dict, the desired scraping information\n",
    "    \"\"\"\n",
    "    return {\"job_title\": [get_job_title(div)],\n",
    "            \"location\": [get_location(div)],\n",
    "            \"company\": [get_company_name(div)],\n",
    "            \"url\": [get_url_link(div)]}\n",
    "\n",
    "\n",
    "def get_number_of_jobs(soup):\n",
    "    \"\"\"\n",
    "    Get the number of jobs returned for the search criteria\n",
    "    :param soup: soup object for the first search page\n",
    "    :return: int, the number of jobs that the search returns\n",
    "    \"\"\"\n",
    "    tag = soup.find(\"div\", {\"id\": \"searchCount\"})\n",
    "    n_jobs = tag.text.split(\" \")[-2]\n",
    "    return int(n_jobs.replace(\",\", \"\"))\n",
    "\n",
    "\n",
    "def get_job_title(div):\n",
    "    \"\"\"\n",
    "    Extract the job titles from the div tag.\n",
    "    :param div: tag object, the div tag from a job posting\n",
    "    :return: string, the job title\n",
    "    \"\"\"\n",
    "    a = div.find(name=\"a\", attrs={\"data-tn-element\": \"jobTitle\"})\n",
    "    return a[\"title\"].replace(\",\", \"\")\n",
    "\n",
    "\n",
    "def get_company_name(div):\n",
    "    \"\"\"\n",
    "    Extract company names from the div tag.\n",
    "    :param div: tag object, the div tag from a job posting\n",
    "    :return: string, the company name\n",
    "    \"\"\"\n",
    "    company = div.find(name=\"span\", attrs={\"class\": \"company\"})\n",
    "    a = div.find(name=\"a\", attrs={\"data-tn-element\": \"companyName\"})\n",
    "    if not a:\n",
    "        return ' '.join(company.text.split()).replace(\",\", \"\")\n",
    "    else:\n",
    "        return ' '.join(a.text.split()).replace(\",\", \"\")\n",
    "\n",
    "\n",
    "def get_url_link(div):\n",
    "    \"\"\"\n",
    "    Extract the URL link from the div tag.\n",
    "    :param div: tag object, the div tag from a job posting\n",
    "    :return: string, the URL of the job posting\n",
    "    \"\"\"\n",
    "    a = div.find(name=\"a\", attrs={\"data-tn-element\": \"jobTitle\"})\n",
    "    return a[\"href\"]\n",
    "\n",
    "\n",
    "def get_location(div):\n",
    "    \"\"\"\n",
    "    Extract the location of the job posting from the div tag.\n",
    "    :param div: tag object, the div tag from a job posting\n",
    "    :return: string, the location of the job posting\n",
    "    \"\"\"\n",
    "    location = div.find(name=\"span\", attrs={\"class\": \"location\"})\n",
    "    return location.text.replace(\",\", \"\")"
   ]
  },
  {
   "cell_type": "code",
   "execution_count": 17,
   "metadata": {
    "collapsed": true
   },
   "outputs": [],
   "source": [
    "df = pd.read_csv(\"data/listings_data.csv\")"
   ]
  },
  {
   "cell_type": "code",
   "execution_count": 18,
   "metadata": {},
   "outputs": [
    {
     "data": {
      "text/html": [
       "<div>\n",
       "<style>\n",
       "    .dataframe thead tr:only-child th {\n",
       "        text-align: right;\n",
       "    }\n",
       "\n",
       "    .dataframe thead th {\n",
       "        text-align: left;\n",
       "    }\n",
       "\n",
       "    .dataframe tbody tr th {\n",
       "        vertical-align: top;\n",
       "    }\n",
       "</style>\n",
       "<table border=\"1\" class=\"dataframe\">\n",
       "  <thead>\n",
       "    <tr style=\"text-align: right;\">\n",
       "      <th></th>\n",
       "      <th>company</th>\n",
       "      <th>job_title</th>\n",
       "      <th>jobsite</th>\n",
       "      <th>location</th>\n",
       "      <th>url</th>\n",
       "    </tr>\n",
       "  </thead>\n",
       "  <tbody>\n",
       "    <tr>\n",
       "      <th>0</th>\n",
       "      <td>IBM</td>\n",
       "      <td>2018 Data Scientist Internship</td>\n",
       "      <td>Indeed</td>\n",
       "      <td>Austin TX 73344</td>\n",
       "      <td>/rc/clk?jk=7efe33d6388ee124&amp;fccid=de71a49b535e...</td>\n",
       "    </tr>\n",
       "    <tr>\n",
       "      <th>1</th>\n",
       "      <td>IBM</td>\n",
       "      <td>2018 Senior Data Scientist Internship</td>\n",
       "      <td>Indeed</td>\n",
       "      <td>Austin TX 73344</td>\n",
       "      <td>/rc/clk?jk=c9d2d46405354ccd&amp;fccid=de71a49b535e...</td>\n",
       "    </tr>\n",
       "    <tr>\n",
       "      <th>2</th>\n",
       "      <td>IBM</td>\n",
       "      <td>Cognitive / AI / Machine Learning Software Dev...</td>\n",
       "      <td>Indeed</td>\n",
       "      <td>Austin TX 73344</td>\n",
       "      <td>/rc/clk?jk=f703d866bcbe77f9&amp;fccid=de71a49b535e...</td>\n",
       "    </tr>\n",
       "    <tr>\n",
       "      <th>3</th>\n",
       "      <td>IBM</td>\n",
       "      <td>2018 Sr. Cognitive /AI/ Machine Learning Softw...</td>\n",
       "      <td>Indeed</td>\n",
       "      <td>Austin TX 73344</td>\n",
       "      <td>/rc/clk?jk=b498447940edee49&amp;fccid=de71a49b535e...</td>\n",
       "    </tr>\n",
       "    <tr>\n",
       "      <th>4</th>\n",
       "      <td>IBM</td>\n",
       "      <td>Watson Health - Data Scientist</td>\n",
       "      <td>Indeed</td>\n",
       "      <td>Austin TX 73344</td>\n",
       "      <td>/rc/clk?jk=c1bc88d1fbfd8c88&amp;fccid=de71a49b535e...</td>\n",
       "    </tr>\n",
       "    <tr>\n",
       "      <th>5</th>\n",
       "      <td>Texan by Nature</td>\n",
       "      <td>Data Analysis Intern</td>\n",
       "      <td>Indeed</td>\n",
       "      <td>Austin TX</td>\n",
       "      <td>/company/Texan-by-Nature/jobs/Data-Analysis-In...</td>\n",
       "    </tr>\n",
       "    <tr>\n",
       "      <th>6</th>\n",
       "      <td>CDK Global</td>\n",
       "      <td>Software Development Internship - Austin</td>\n",
       "      <td>Indeed</td>\n",
       "      <td>Austin TX</td>\n",
       "      <td>/rc/clk?jk=1cebb889b301d804&amp;fccid=cf4c744760f4...</td>\n",
       "    </tr>\n",
       "    <tr>\n",
       "      <th>7</th>\n",
       "      <td>Colorado River Alliance</td>\n",
       "      <td>Program Coordinator</td>\n",
       "      <td>Indeed</td>\n",
       "      <td>Austin TX</td>\n",
       "      <td>/rc/clk?jk=c043d42b087af77e&amp;fccid=1153f9b6a570...</td>\n",
       "    </tr>\n",
       "    <tr>\n",
       "      <th>8</th>\n",
       "      <td>Charles Schwab</td>\n",
       "      <td>2018 Schwab Intern Academy: Analytics and Busi...</td>\n",
       "      <td>Indeed</td>\n",
       "      <td>Austin TX 73344</td>\n",
       "      <td>/rc/clk?jk=16079903e7c0f8c6&amp;fccid=3c74eafe288f...</td>\n",
       "    </tr>\n",
       "    <tr>\n",
       "      <th>9</th>\n",
       "      <td>Nano Global</td>\n",
       "      <td>Engineering Product Development Intern</td>\n",
       "      <td>Indeed</td>\n",
       "      <td>Austin TX</td>\n",
       "      <td>/rc/clk?jk=eee8a480cce817fd&amp;fccid=ee3c12953393...</td>\n",
       "    </tr>\n",
       "    <tr>\n",
       "      <th>10</th>\n",
       "      <td>Rocket Software</td>\n",
       "      <td>Data Scientist Intern (Summer 2018)</td>\n",
       "      <td>Indeed</td>\n",
       "      <td>Austin TX</td>\n",
       "      <td>/rc/clk?jk=714676ddbd902349&amp;fccid=f9684e7d32b8...</td>\n",
       "    </tr>\n",
       "    <tr>\n",
       "      <th>11</th>\n",
       "      <td>Rocket Software</td>\n",
       "      <td>Machine Learning Intern (Summer 2018)</td>\n",
       "      <td>Indeed</td>\n",
       "      <td>Austin TX</td>\n",
       "      <td>/rc/clk?jk=00a38c7959224bff&amp;fccid=f9684e7d32b8...</td>\n",
       "    </tr>\n",
       "    <tr>\n",
       "      <th>12</th>\n",
       "      <td>CACI</td>\n",
       "      <td>Software Developer Internship</td>\n",
       "      <td>Indeed</td>\n",
       "      <td>Austin TX 78759 (Arboretum area)</td>\n",
       "      <td>/rc/clk?jk=6e38c6fe54d5bbb4&amp;fccid=290a4498a64f...</td>\n",
       "    </tr>\n",
       "    <tr>\n",
       "      <th>13</th>\n",
       "      <td>Atlassian</td>\n",
       "      <td>2018 Summer Software Developer Intern - Austin TX</td>\n",
       "      <td>Indeed</td>\n",
       "      <td>Austin TX</td>\n",
       "      <td>/rc/clk?jk=aad2c4a5eff31e29&amp;fccid=e6d4ba9e2cfe...</td>\n",
       "    </tr>\n",
       "    <tr>\n",
       "      <th>14</th>\n",
       "      <td>National Instruments</td>\n",
       "      <td>Business Application Development Intern 2018</td>\n",
       "      <td>Indeed</td>\n",
       "      <td>Austin TX</td>\n",
       "      <td>/rc/clk?jk=d77449177cfb64e1&amp;fccid=9f94228dbf8b...</td>\n",
       "    </tr>\n",
       "    <tr>\n",
       "      <th>15</th>\n",
       "      <td>National instrument</td>\n",
       "      <td>Business Application Development Intern 2018</td>\n",
       "      <td>Indeed</td>\n",
       "      <td>Austin TX</td>\n",
       "      <td>/rc/clk?jk=5d15580167f2b46b&amp;fccid=263d9a07b538...</td>\n",
       "    </tr>\n",
       "  </tbody>\n",
       "</table>\n",
       "</div>"
      ],
      "text/plain": [
       "                    company  \\\n",
       "0                       IBM   \n",
       "1                       IBM   \n",
       "2                       IBM   \n",
       "3                       IBM   \n",
       "4                       IBM   \n",
       "5           Texan by Nature   \n",
       "6                CDK Global   \n",
       "7   Colorado River Alliance   \n",
       "8            Charles Schwab   \n",
       "9               Nano Global   \n",
       "10          Rocket Software   \n",
       "11          Rocket Software   \n",
       "12                     CACI   \n",
       "13                Atlassian   \n",
       "14     National Instruments   \n",
       "15      National instrument   \n",
       "\n",
       "                                            job_title jobsite  \\\n",
       "0                      2018 Data Scientist Internship  Indeed   \n",
       "1               2018 Senior Data Scientist Internship  Indeed   \n",
       "2   Cognitive / AI / Machine Learning Software Dev...  Indeed   \n",
       "3   2018 Sr. Cognitive /AI/ Machine Learning Softw...  Indeed   \n",
       "4                      Watson Health - Data Scientist  Indeed   \n",
       "5                                Data Analysis Intern  Indeed   \n",
       "6            Software Development Internship - Austin  Indeed   \n",
       "7                                 Program Coordinator  Indeed   \n",
       "8   2018 Schwab Intern Academy: Analytics and Busi...  Indeed   \n",
       "9              Engineering Product Development Intern  Indeed   \n",
       "10                Data Scientist Intern (Summer 2018)  Indeed   \n",
       "11              Machine Learning Intern (Summer 2018)  Indeed   \n",
       "12                      Software Developer Internship  Indeed   \n",
       "13  2018 Summer Software Developer Intern - Austin TX  Indeed   \n",
       "14       Business Application Development Intern 2018  Indeed   \n",
       "15       Business Application Development Intern 2018  Indeed   \n",
       "\n",
       "                            location  \\\n",
       "0                    Austin TX 73344   \n",
       "1                    Austin TX 73344   \n",
       "2                    Austin TX 73344   \n",
       "3                    Austin TX 73344   \n",
       "4                    Austin TX 73344   \n",
       "5                          Austin TX   \n",
       "6                          Austin TX   \n",
       "7                          Austin TX   \n",
       "8                    Austin TX 73344   \n",
       "9                          Austin TX   \n",
       "10                         Austin TX   \n",
       "11                         Austin TX   \n",
       "12  Austin TX 78759 (Arboretum area)   \n",
       "13                         Austin TX   \n",
       "14                         Austin TX   \n",
       "15                         Austin TX   \n",
       "\n",
       "                                                  url  \n",
       "0   /rc/clk?jk=7efe33d6388ee124&fccid=de71a49b535e...  \n",
       "1   /rc/clk?jk=c9d2d46405354ccd&fccid=de71a49b535e...  \n",
       "2   /rc/clk?jk=f703d866bcbe77f9&fccid=de71a49b535e...  \n",
       "3   /rc/clk?jk=b498447940edee49&fccid=de71a49b535e...  \n",
       "4   /rc/clk?jk=c1bc88d1fbfd8c88&fccid=de71a49b535e...  \n",
       "5   /company/Texan-by-Nature/jobs/Data-Analysis-In...  \n",
       "6   /rc/clk?jk=1cebb889b301d804&fccid=cf4c744760f4...  \n",
       "7   /rc/clk?jk=c043d42b087af77e&fccid=1153f9b6a570...  \n",
       "8   /rc/clk?jk=16079903e7c0f8c6&fccid=3c74eafe288f...  \n",
       "9   /rc/clk?jk=eee8a480cce817fd&fccid=ee3c12953393...  \n",
       "10  /rc/clk?jk=714676ddbd902349&fccid=f9684e7d32b8...  \n",
       "11  /rc/clk?jk=00a38c7959224bff&fccid=f9684e7d32b8...  \n",
       "12  /rc/clk?jk=6e38c6fe54d5bbb4&fccid=290a4498a64f...  \n",
       "13  /rc/clk?jk=aad2c4a5eff31e29&fccid=e6d4ba9e2cfe...  \n",
       "14  /rc/clk?jk=d77449177cfb64e1&fccid=9f94228dbf8b...  \n",
       "15  /rc/clk?jk=5d15580167f2b46b&fccid=263d9a07b538...  "
      ]
     },
     "execution_count": 18,
     "metadata": {},
     "output_type": "execute_result"
    }
   ],
   "source": [
    "df"
   ]
  },
  {
   "cell_type": "code",
   "execution_count": 2,
   "metadata": {
    "collapsed": true
   },
   "outputs": [],
   "source": [
    "d = defaultdict(list)\n",
    "d['this'] += [\"Hello\"]"
   ]
  },
  {
   "cell_type": "code",
   "execution_count": 3,
   "metadata": {},
   "outputs": [
    {
     "name": "stdout",
     "output_type": "stream",
     "text": [
      "defaultdict(<class 'list'>, {'this': ['Hello']})\n"
     ]
    }
   ],
   "source": [
    "print(d)"
   ]
  }
 ],
 "metadata": {
  "kernelspec": {
   "display_name": "Python 3",
   "language": "python",
   "name": "python3"
  },
  "language_info": {
   "codemirror_mode": {
    "name": "ipython",
    "version": 3
   },
   "file_extension": ".py",
   "mimetype": "text/x-python",
   "name": "python",
   "nbconvert_exporter": "python",
   "pygments_lexer": "ipython3",
   "version": "3.6.2"
  }
 },
 "nbformat": 4,
 "nbformat_minor": 2
}
