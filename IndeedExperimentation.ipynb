{
 "cells": [
  {
   "cell_type": "markdown",
   "metadata": {},
   "source": [
    "# Experimentation with web scraping Indeed"
   ]
  },
  {
   "cell_type": "code",
   "execution_count": 1,
   "metadata": {
    "collapsed": true
   },
   "outputs": [],
   "source": [
    "import requests\n",
    "from bs4 import BeautifulSoup\n",
    "import pandas as pd"
   ]
  },
  {
   "cell_type": "code",
   "execution_count": 10,
   "metadata": {
    "collapsed": true
   },
   "outputs": [],
   "source": [
    "url = \"https://www.indeed.com/jobs?q=data+scientist+intern&l=New+York&radius=50&sort=date\"\n"
   ]
  },
  {
   "cell_type": "code",
   "execution_count": 11,
   "metadata": {
    "collapsed": true
   },
   "outputs": [],
   "source": [
    "page = requests.get(url)"
   ]
  },
  {
   "cell_type": "code",
   "execution_count": 12,
   "metadata": {
    "collapsed": true
   },
   "outputs": [],
   "source": [
    "soup = BeautifulSoup(page.text, \"html.parser\")"
   ]
  },
  {
   "cell_type": "code",
   "execution_count": 217,
   "metadata": {},
   "outputs": [
    {
     "data": {
      "text/plain": [
       "False"
      ]
     },
     "execution_count": 217,
     "metadata": {},
     "output_type": "execute_result"
    }
   ],
   "source": [
    "\"Previous\" in soup.find(name=\"span\", attrs={\"class\": \"np\"}).text"
   ]
  },
  {
   "cell_type": "code",
   "execution_count": 75,
   "metadata": {
    "collapsed": true
   },
   "outputs": [],
   "source": [
    "n_jobs = c.split(\" \")[-2]"
   ]
  },
  {
   "cell_type": "code",
   "execution_count": 79,
   "metadata": {},
   "outputs": [
    {
     "data": {
      "text/plain": [
       "5379"
      ]
     },
     "execution_count": 79,
     "metadata": {},
     "output_type": "execute_result"
    }
   ],
   "source": [
    "int((n_jobs).replace(\",\", \"\"))"
   ]
  },
  {
   "cell_type": "code",
   "execution_count": 13,
   "metadata": {
    "scrolled": true
   },
   "outputs": [
    {
     "name": "stdout",
     "output_type": "stream",
     "text": [
      "Just posted\n",
      "1 day ago\n",
      "4 days ago\n",
      "12 days ago\n",
      "9 days ago\n",
      "10 days ago\n",
      "9 days ago\n",
      "11 days ago\n",
      "10 days ago\n",
      "13 days ago\n"
     ]
    }
   ],
   "source": [
    "for div in soup.find_all(name=\"div\", attrs={\"class\":\"row\"}):\n",
    "    #Date\n",
    "    date_tag = div.find(name=\"span\", attrs={\"class\": \"date\"})\n",
    "    print(date_tag.text)\n"
   ]
  },
  {
   "cell_type": "code",
   "execution_count": 238,
   "metadata": {},
   "outputs": [
    {
     "data": {
      "text/plain": [
       "<span class=\"np\">Next »</span>"
      ]
     },
     "execution_count": 238,
     "metadata": {},
     "output_type": "execute_result"
    }
   ],
   "source": [
    "d = soup.find(name=\"span\", attrs={\"class\":\"np\"})\n",
    "d"
   ]
  },
  {
   "cell_type": "code",
   "execution_count": 240,
   "metadata": {},
   "outputs": [
    {
     "data": {
      "text/plain": [
       "'/jobs?q=data+scientist+intern&l=austin&radius=50&sort=date&start=10'"
      ]
     },
     "execution_count": 240,
     "metadata": {},
     "output_type": "execute_result"
    }
   ],
   "source": [
    "d = soup.find(name=\"div\", attrs={\"class\": \"pagination\"})\n",
    "d.find_all(\"a\")[-1][\"href\"]"
   ]
  },
  {
   "cell_type": "code",
   "execution_count": 239,
   "metadata": {
    "scrolled": true
   },
   "outputs": [
    {
     "name": "stdout",
     "output_type": "stream",
     "text": [
      "<span class=\"np\">Next »</span>\n"
     ]
    }
   ],
   "source": [
    "d.find_all(\"a\")\n",
    "#len(d.find_all(\"a\"))\n",
    "#d= d.find_all(\"a\")[-1][\"href\"]\n",
    "#e = d.find(name=\"span\", attrs={\"class\":\"np\"})\n",
    "print(d)"
   ]
  },
  {
   "cell_type": "code",
   "execution_count": 5,
   "metadata": {
    "collapsed": true
   },
   "outputs": [],
   "source": [
    "import pandas as pd"
   ]
  },
  {
   "cell_type": "code",
   "execution_count": 77,
   "metadata": {
    "collapsed": true
   },
   "outputs": [],
   "source": [
    "df = pd.DataFrame(columns = [\"job_title\", \"location\", \"company\", \"url\", \"jobsite\", \"job_description\"])"
   ]
  },
  {
   "cell_type": "code",
   "execution_count": 78,
   "metadata": {
    "collapsed": true
   },
   "outputs": [],
   "source": [
    "df.to_csv(\"data/listings_data.csv\",index=False)"
   ]
  },
  {
   "cell_type": "code",
   "execution_count": 15,
   "metadata": {
    "collapsed": true
   },
   "outputs": [],
   "source": [
    "df2 = pd.read_csv(\"data/listings_data.csv\")"
   ]
  },
  {
   "cell_type": "code",
   "execution_count": 16,
   "metadata": {
    "scrolled": true
   },
   "outputs": [
    {
     "data": {
      "text/html": [
       "<div>\n",
       "<style>\n",
       "    .dataframe thead tr:only-child th {\n",
       "        text-align: right;\n",
       "    }\n",
       "\n",
       "    .dataframe thead th {\n",
       "        text-align: left;\n",
       "    }\n",
       "\n",
       "    .dataframe tbody tr th {\n",
       "        vertical-align: top;\n",
       "    }\n",
       "</style>\n",
       "<table border=\"1\" class=\"dataframe\">\n",
       "  <thead>\n",
       "    <tr style=\"text-align: right;\">\n",
       "      <th></th>\n",
       "      <th>job_title</th>\n",
       "      <th>location</th>\n",
       "      <th>company</th>\n",
       "      <th>url</th>\n",
       "      <th>jobsite</th>\n",
       "    </tr>\n",
       "  </thead>\n",
       "  <tbody>\n",
       "  </tbody>\n",
       "</table>\n",
       "</div>"
      ],
      "text/plain": [
       "Empty DataFrame\n",
       "Columns: [job_title, location, company, url, jobsite]\n",
       "Index: []"
      ]
     },
     "execution_count": 16,
     "metadata": {},
     "output_type": "execute_result"
    }
   ],
   "source": [
    "df2"
   ]
  },
  {
   "cell_type": "code",
   "execution_count": 165,
   "metadata": {
    "collapsed": true
   },
   "outputs": [],
   "source": [
    "x = None"
   ]
  },
  {
   "cell_type": "code",
   "execution_count": 168,
   "metadata": {},
   "outputs": [
    {
     "name": "stdout",
     "output_type": "stream",
     "text": [
      "Helo\n"
     ]
    }
   ],
   "source": [
    "if not x:\n",
    "    print(\"Helo\")"
   ]
  },
  {
   "cell_type": "code",
   "execution_count": 203,
   "metadata": {},
   "outputs": [
    {
     "data": {
      "text/html": [
       "<div>\n",
       "<style>\n",
       "    .dataframe thead tr:only-child th {\n",
       "        text-align: right;\n",
       "    }\n",
       "\n",
       "    .dataframe thead th {\n",
       "        text-align: left;\n",
       "    }\n",
       "\n",
       "    .dataframe tbody tr th {\n",
       "        vertical-align: top;\n",
       "    }\n",
       "</style>\n",
       "<table border=\"1\" class=\"dataframe\">\n",
       "  <thead>\n",
       "    <tr style=\"text-align: right;\">\n",
       "      <th></th>\n",
       "      <th>company</th>\n",
       "      <th>job_title</th>\n",
       "      <th>location</th>\n",
       "      <th>url</th>\n",
       "    </tr>\n",
       "  </thead>\n",
       "  <tbody>\n",
       "    <tr>\n",
       "      <th>0</th>\n",
       "      <td>USAA</td>\n",
       "      <td>Business Intelligence Analyst</td>\n",
       "      <td>San Antonio TX 78288</td>\n",
       "      <td>/pagead/clk?mo=r&amp;ad=-6NYlbfkN0CAlkOQ68lM1c9i6U...</td>\n",
       "    </tr>\n",
       "    <tr>\n",
       "      <th>0</th>\n",
       "      <td>Adaptivestack Technologies Inc.</td>\n",
       "      <td>Electronic Data Interchange (EDI) Business Ana...</td>\n",
       "      <td>Austin TX</td>\n",
       "      <td>/company/Adaptivestack-Technologies-Inc./jobs/...</td>\n",
       "    </tr>\n",
       "    <tr>\n",
       "      <th>0</th>\n",
       "      <td>Simple [A]</td>\n",
       "      <td>QA Engineer / QA Analyst (remote)</td>\n",
       "      <td>Austin TX 78701 (Downtown area)</td>\n",
       "      <td>/rc/clk?jk=62e89d4367865679&amp;fccid=d271b8ad811e...</td>\n",
       "    </tr>\n",
       "    <tr>\n",
       "      <th>0</th>\n",
       "      <td>Advanced Micro Devices Inc.</td>\n",
       "      <td>Sr. Business Analyst</td>\n",
       "      <td>Austin TX</td>\n",
       "      <td>/rc/clk?jk=0ec31aa7e9a539b7&amp;fccid=b45c4b5a9c9a...</td>\n",
       "    </tr>\n",
       "    <tr>\n",
       "      <th>0</th>\n",
       "      <td>Google</td>\n",
       "      <td>Sales Engineering Manager Shared Services Goog...</td>\n",
       "      <td>Austin TX</td>\n",
       "      <td>/rc/clk?jk=fa6e92598f23922e&amp;fccid=a5b4499d9e91...</td>\n",
       "    </tr>\n",
       "    <tr>\n",
       "      <th>0</th>\n",
       "      <td>Central Waste Management</td>\n",
       "      <td>On-Call Trash Service Valet - TRUCK REQUIRED -...</td>\n",
       "      <td>Austin TX 78750</td>\n",
       "      <td>/company/Central-Waste-Management/jobs/Call-Tr...</td>\n",
       "    </tr>\n",
       "    <tr>\n",
       "      <th>0</th>\n",
       "      <td>Spectrum</td>\n",
       "      <td>Mgr Network Engineering</td>\n",
       "      <td>Austin TX</td>\n",
       "      <td>/rc/clk?jk=61a2811db9e0bb9e&amp;fccid=c2d1b0769a53...</td>\n",
       "    </tr>\n",
       "    <tr>\n",
       "      <th>0</th>\n",
       "      <td>IBM</td>\n",
       "      <td>Data Security Consultant</td>\n",
       "      <td>Austin TX 73344</td>\n",
       "      <td>/rc/clk?jk=04c2935876648d8d&amp;fccid=de71a49b535e...</td>\n",
       "    </tr>\n",
       "    <tr>\n",
       "      <th>0</th>\n",
       "      <td>IBM</td>\n",
       "      <td>Research Staff Member Artificial Intelligence</td>\n",
       "      <td>Austin TX 73344</td>\n",
       "      <td>/rc/clk?jk=1d82d66876b6d203&amp;fccid=de71a49b535e...</td>\n",
       "    </tr>\n",
       "    <tr>\n",
       "      <th>0</th>\n",
       "      <td>IBM</td>\n",
       "      <td>Associate Partner Advanced Analytics/Data Science</td>\n",
       "      <td>Austin TX 73344</td>\n",
       "      <td>/rc/clk?jk=61c9e8394c055ecc&amp;fccid=de71a49b535e...</td>\n",
       "    </tr>\n",
       "    <tr>\n",
       "      <th>0</th>\n",
       "      <td>IBM</td>\n",
       "      <td>Healthcare - Research Staff Member Artificial ...</td>\n",
       "      <td>Austin TX 73344</td>\n",
       "      <td>/rc/clk?jk=77931a185b54b8b9&amp;fccid=de71a49b535e...</td>\n",
       "    </tr>\n",
       "    <tr>\n",
       "      <th>0</th>\n",
       "      <td>Accenture</td>\n",
       "      <td>ETL - Data Management Specialist - Austin TX o...</td>\n",
       "      <td>Austin TX</td>\n",
       "      <td>/pagead/clk?mo=r&amp;ad=-6NYlbfkN0CV4holdffd831ZKQ...</td>\n",
       "    </tr>\n",
       "    <tr>\n",
       "      <th>0</th>\n",
       "      <td>Teacher Retirement System of Texas</td>\n",
       "      <td>Data Analytics Analyst or SR Data Analytics An...</td>\n",
       "      <td>Austin TX</td>\n",
       "      <td>/pagead/clk?mo=r&amp;ad=-6NYlbfkN0A-4NqhFQaKCxuVMi...</td>\n",
       "    </tr>\n",
       "    <tr>\n",
       "      <th>0</th>\n",
       "      <td>Confidentiale</td>\n",
       "      <td>Excel Expert (Data Analyst)</td>\n",
       "      <td>San Antonio TX</td>\n",
       "      <td>/pagead/clk?mo=r&amp;ad=-6NYlbfkN0AAIEZtPHxc8ki6YU...</td>\n",
       "    </tr>\n",
       "  </tbody>\n",
       "</table>\n",
       "</div>"
      ],
      "text/plain": [
       "                              company  \\\n",
       "0                                USAA   \n",
       "0     Adaptivestack Technologies Inc.   \n",
       "0                          Simple [A]   \n",
       "0         Advanced Micro Devices Inc.   \n",
       "0                              Google   \n",
       "0            Central Waste Management   \n",
       "0                            Spectrum   \n",
       "0                                 IBM   \n",
       "0                                 IBM   \n",
       "0                                 IBM   \n",
       "0                                 IBM   \n",
       "0                           Accenture   \n",
       "0  Teacher Retirement System of Texas   \n",
       "0                       Confidentiale   \n",
       "\n",
       "                                           job_title  \\\n",
       "0                      Business Intelligence Analyst   \n",
       "0  Electronic Data Interchange (EDI) Business Ana...   \n",
       "0                  QA Engineer / QA Analyst (remote)   \n",
       "0                               Sr. Business Analyst   \n",
       "0  Sales Engineering Manager Shared Services Goog...   \n",
       "0  On-Call Trash Service Valet - TRUCK REQUIRED -...   \n",
       "0                            Mgr Network Engineering   \n",
       "0                           Data Security Consultant   \n",
       "0      Research Staff Member Artificial Intelligence   \n",
       "0  Associate Partner Advanced Analytics/Data Science   \n",
       "0  Healthcare - Research Staff Member Artificial ...   \n",
       "0  ETL - Data Management Specialist - Austin TX o...   \n",
       "0  Data Analytics Analyst or SR Data Analytics An...   \n",
       "0                        Excel Expert (Data Analyst)   \n",
       "\n",
       "                          location  \\\n",
       "0             San Antonio TX 78288   \n",
       "0                        Austin TX   \n",
       "0  Austin TX 78701 (Downtown area)   \n",
       "0                        Austin TX   \n",
       "0                        Austin TX   \n",
       "0                  Austin TX 78750   \n",
       "0                        Austin TX   \n",
       "0                  Austin TX 73344   \n",
       "0                  Austin TX 73344   \n",
       "0                  Austin TX 73344   \n",
       "0                  Austin TX 73344   \n",
       "0                        Austin TX   \n",
       "0                        Austin TX   \n",
       "0                   San Antonio TX   \n",
       "\n",
       "                                                 url  \n",
       "0  /pagead/clk?mo=r&ad=-6NYlbfkN0CAlkOQ68lM1c9i6U...  \n",
       "0  /company/Adaptivestack-Technologies-Inc./jobs/...  \n",
       "0  /rc/clk?jk=62e89d4367865679&fccid=d271b8ad811e...  \n",
       "0  /rc/clk?jk=0ec31aa7e9a539b7&fccid=b45c4b5a9c9a...  \n",
       "0  /rc/clk?jk=fa6e92598f23922e&fccid=a5b4499d9e91...  \n",
       "0  /company/Central-Waste-Management/jobs/Call-Tr...  \n",
       "0  /rc/clk?jk=61a2811db9e0bb9e&fccid=c2d1b0769a53...  \n",
       "0  /rc/clk?jk=04c2935876648d8d&fccid=de71a49b535e...  \n",
       "0  /rc/clk?jk=1d82d66876b6d203&fccid=de71a49b535e...  \n",
       "0  /rc/clk?jk=61c9e8394c055ecc&fccid=de71a49b535e...  \n",
       "0  /rc/clk?jk=77931a185b54b8b9&fccid=de71a49b535e...  \n",
       "0  /pagead/clk?mo=r&ad=-6NYlbfkN0CV4holdffd831ZKQ...  \n",
       "0  /pagead/clk?mo=r&ad=-6NYlbfkN0A-4NqhFQaKCxuVMi...  \n",
       "0  /pagead/clk?mo=r&ad=-6NYlbfkN0AAIEZtPHxc8ki6YU...  "
      ]
     },
     "execution_count": 203,
     "metadata": {},
     "output_type": "execute_result"
    }
   ],
   "source": [
    "dtf = df\n",
    "for div in soup.find_all(name=\"div\", attrs={\"class\": \"row\"}):\n",
    "    listing = get_listing_info(div)\n",
    "    other = pd.DataFrame(listing)\n",
    "    dtf = dtf.append(other)\n",
    "dtf"
   ]
  },
  {
   "cell_type": "code",
   "execution_count": null,
   "metadata": {
    "collapsed": true
   },
   "outputs": [],
   "source": []
  },
  {
   "cell_type": "code",
   "execution_count": 202,
   "metadata": {
    "collapsed": true
   },
   "outputs": [],
   "source": [
    "def get_listing_info(div):\n",
    "    \"\"\"\n",
    "    Get the results of scraping a single listings job listing.\n",
    "    :param div: the contents of a single listing's div tag\n",
    "    :return: dict, the desired scraping information\n",
    "    \"\"\"\n",
    "    return {\"job_title\": [get_job_title(div)],\n",
    "            \"location\": [get_location(div)],\n",
    "            \"company\": [get_company_name(div)],\n",
    "            \"url\": [get_url_link(div)]}\n",
    "\n",
    "\n",
    "def get_number_of_jobs(soup):\n",
    "    \"\"\"\n",
    "    Get the number of jobs returned for the search criteria\n",
    "    :param soup: soup object for the first search page\n",
    "    :return: int, the number of jobs that the search returns\n",
    "    \"\"\"\n",
    "    tag = soup.find(\"div\", {\"id\": \"searchCount\"})\n",
    "    n_jobs = tag.text.split(\" \")[-2]\n",
    "    return int(n_jobs.replace(\",\", \"\"))\n",
    "\n",
    "\n",
    "def get_job_title(div):\n",
    "    \"\"\"\n",
    "    Extract the job titles from the div tag.\n",
    "    :param div: tag object, the div tag from a job posting\n",
    "    :return: string, the job title\n",
    "    \"\"\"\n",
    "    a = div.find(name=\"a\", attrs={\"data-tn-element\": \"jobTitle\"})\n",
    "    return a[\"title\"].replace(\",\", \"\")\n",
    "\n",
    "\n",
    "def get_company_name(div):\n",
    "    \"\"\"\n",
    "    Extract company names from the div tag.\n",
    "    :param div: tag object, the div tag from a job posting\n",
    "    :return: string, the company name\n",
    "    \"\"\"\n",
    "    company = div.find(name=\"span\", attrs={\"class\": \"company\"})\n",
    "    a = div.find(name=\"a\", attrs={\"data-tn-element\": \"companyName\"})\n",
    "    if not a:\n",
    "        return ' '.join(company.text.split()).replace(\",\", \"\")\n",
    "    else:\n",
    "        return ' '.join(a.text.split()).replace(\",\", \"\")\n",
    "\n",
    "\n",
    "def get_url_link(div):\n",
    "    \"\"\"\n",
    "    Extract the URL link from the div tag.\n",
    "    :param div: tag object, the div tag from a job posting\n",
    "    :return: string, the URL of the job posting\n",
    "    \"\"\"\n",
    "    a = div.find(name=\"a\", attrs={\"data-tn-element\": \"jobTitle\"})\n",
    "    return a[\"href\"]\n",
    "\n",
    "\n",
    "def get_location(div):\n",
    "    \"\"\"\n",
    "    Extract the location of the job posting from the div tag.\n",
    "    :param div: tag object, the div tag from a job posting\n",
    "    :return: string, the location of the job posting\n",
    "    \"\"\"\n",
    "    location = div.find(name=\"span\", attrs={\"class\": \"location\"})\n",
    "    return location.text.replace(\",\", \"\")"
   ]
  },
  {
   "cell_type": "code",
   "execution_count": 79,
   "metadata": {
    "collapsed": true
   },
   "outputs": [],
   "source": [
    "df = pd.read_csv(\"data/listings_data.csv\")"
   ]
  },
  {
   "cell_type": "code",
   "execution_count": 80,
   "metadata": {},
   "outputs": [
    {
     "data": {
      "text/html": [
       "<div>\n",
       "<style>\n",
       "    .dataframe thead tr:only-child th {\n",
       "        text-align: right;\n",
       "    }\n",
       "\n",
       "    .dataframe thead th {\n",
       "        text-align: left;\n",
       "    }\n",
       "\n",
       "    .dataframe tbody tr th {\n",
       "        vertical-align: top;\n",
       "    }\n",
       "</style>\n",
       "<table border=\"1\" class=\"dataframe\">\n",
       "  <thead>\n",
       "    <tr style=\"text-align: right;\">\n",
       "      <th></th>\n",
       "      <th>company</th>\n",
       "      <th>job_description</th>\n",
       "      <th>job_title</th>\n",
       "      <th>jobsite</th>\n",
       "      <th>location</th>\n",
       "      <th>url</th>\n",
       "    </tr>\n",
       "  </thead>\n",
       "  <tbody>\n",
       "    <tr>\n",
       "      <th>0</th>\n",
       "      <td>IBM</td>\n",
       "      <td>Job Description\\nIBM LOGO\\nDO YOUR BEST WORK E...</td>\n",
       "      <td>2018 Data Scientist Internship</td>\n",
       "      <td>Indeed</td>\n",
       "      <td>Austin TX 73344</td>\n",
       "      <td>/rc/clk?jk=7efe33d6388ee124&amp;fccid=de71a49b535e...</td>\n",
       "    </tr>\n",
       "    <tr>\n",
       "      <th>1</th>\n",
       "      <td>IBM</td>\n",
       "      <td>Job Description\\nIBM LOGO\\nDO YOUR BEST WORK E...</td>\n",
       "      <td>2018 Senior Data Scientist Internship</td>\n",
       "      <td>Indeed</td>\n",
       "      <td>Austin TX 73344</td>\n",
       "      <td>/rc/clk?jk=c9d2d46405354ccd&amp;fccid=de71a49b535e...</td>\n",
       "    </tr>\n",
       "    <tr>\n",
       "      <th>2</th>\n",
       "      <td>IBM</td>\n",
       "      <td>Job Description\\nIBM LOGO\\nDO YOUR BEST WORK E...</td>\n",
       "      <td>Cognitive / AI / Machine Learning Software Dev...</td>\n",
       "      <td>Indeed</td>\n",
       "      <td>Austin TX 73344</td>\n",
       "      <td>/rc/clk?jk=f703d866bcbe77f9&amp;fccid=de71a49b535e...</td>\n",
       "    </tr>\n",
       "    <tr>\n",
       "      <th>3</th>\n",
       "      <td>IBM</td>\n",
       "      <td>Job Description\\nIBM LOGO\\nDO YOUR BEST WORK E...</td>\n",
       "      <td>2018 Sr. Cognitive /AI/ Machine Learning Softw...</td>\n",
       "      <td>Indeed</td>\n",
       "      <td>Austin TX 73344</td>\n",
       "      <td>/rc/clk?jk=b498447940edee49&amp;fccid=de71a49b535e...</td>\n",
       "    </tr>\n",
       "    <tr>\n",
       "      <th>4</th>\n",
       "      <td>IBM</td>\n",
       "      <td>Job Description\\nIBM LOGO\\nDO YOUR BEST WORK E...</td>\n",
       "      <td>Watson Health - Data Scientist</td>\n",
       "      <td>Indeed</td>\n",
       "      <td>Austin TX 73344</td>\n",
       "      <td>/rc/clk?jk=c1bc88d1fbfd8c88&amp;fccid=de71a49b535e...</td>\n",
       "    </tr>\n",
       "    <tr>\n",
       "      <th>5</th>\n",
       "      <td>Texan by Nature</td>\n",
       "      <td>Data Analysis Intern job - Texan by Nature - A...</td>\n",
       "      <td>Data Analysis Intern</td>\n",
       "      <td>Indeed</td>\n",
       "      <td>Austin TX</td>\n",
       "      <td>/company/Texan-by-Nature/jobs/Data-Analysis-In...</td>\n",
       "    </tr>\n",
       "    <tr>\n",
       "      <th>6</th>\n",
       "      <td>CDK Global</td>\n",
       "      <td>Software Development Internship - Austin\\nEngl...</td>\n",
       "      <td>Software Development Internship - Austin</td>\n",
       "      <td>Indeed</td>\n",
       "      <td>Austin TX</td>\n",
       "      <td>/rc/clk?jk=1cebb889b301d804&amp;fccid=cf4c744760f4...</td>\n",
       "    </tr>\n",
       "    <tr>\n",
       "      <th>7</th>\n",
       "      <td>Colorado River Alliance</td>\n",
       "      <td>Program Coordinator #0007 job at Colorado Rive...</td>\n",
       "      <td>Program Coordinator</td>\n",
       "      <td>Indeed</td>\n",
       "      <td>Austin TX</td>\n",
       "      <td>/rc/clk?jk=c043d42b087af77e&amp;fccid=1153f9b6a570...</td>\n",
       "    </tr>\n",
       "    <tr>\n",
       "      <th>8</th>\n",
       "      <td>Charles Schwab</td>\n",
       "      <td>2018 Schwab Intern Academy: Analytics and Busi...</td>\n",
       "      <td>2018 Schwab Intern Academy: Analytics and Busi...</td>\n",
       "      <td>Indeed</td>\n",
       "      <td>Austin TX 73344</td>\n",
       "      <td>/rc/clk?jk=16079903e7c0f8c6&amp;fccid=3c74eafe288f...</td>\n",
       "    </tr>\n",
       "    <tr>\n",
       "      <th>9</th>\n",
       "      <td>Nano Global</td>\n",
       "      <td>Nano Global - Jobs: Engineering Product Develo...</td>\n",
       "      <td>Engineering Product Development Intern</td>\n",
       "      <td>Indeed</td>\n",
       "      <td>Austin TX</td>\n",
       "      <td>/rc/clk?jk=eee8a480cce817fd&amp;fccid=ee3c12953393...</td>\n",
       "    </tr>\n",
       "    <tr>\n",
       "      <th>10</th>\n",
       "      <td>Rocket Software</td>\n",
       "      <td>Rocket Software Careers\\nHomeCareersAbout Rock...</td>\n",
       "      <td>Data Scientist Intern (Summer 2018)</td>\n",
       "      <td>Indeed</td>\n",
       "      <td>Austin TX</td>\n",
       "      <td>/rc/clk?jk=714676ddbd902349&amp;fccid=f9684e7d32b8...</td>\n",
       "    </tr>\n",
       "    <tr>\n",
       "      <th>11</th>\n",
       "      <td>Rocket Software</td>\n",
       "      <td>Rocket Software Careers\\nHomeCareersAbout Rock...</td>\n",
       "      <td>Machine Learning Intern (Summer 2018)</td>\n",
       "      <td>Indeed</td>\n",
       "      <td>Austin TX</td>\n",
       "      <td>/rc/clk?jk=00a38c7959224bff&amp;fccid=f9684e7d32b8...</td>\n",
       "    </tr>\n",
       "    <tr>\n",
       "      <th>12</th>\n",
       "      <td>CACI</td>\n",
       "      <td>Software Developer Internship\\nin\\nAustin, TX\\...</td>\n",
       "      <td>Software Developer Internship</td>\n",
       "      <td>Indeed</td>\n",
       "      <td>Austin TX 78759 (Arboretum area)</td>\n",
       "      <td>/rc/clk?jk=6e38c6fe54d5bbb4&amp;fccid=290a4498a64f...</td>\n",
       "    </tr>\n",
       "    <tr>\n",
       "      <th>13</th>\n",
       "      <td>Atlassian</td>\n",
       "      <td>Atlassian 2018 Summer Software Developer Inter...</td>\n",
       "      <td>2018 Summer Software Developer Intern - Austin TX</td>\n",
       "      <td>Indeed</td>\n",
       "      <td>Austin TX</td>\n",
       "      <td>/rc/clk?jk=aad2c4a5eff31e29&amp;fccid=e6d4ba9e2cfe...</td>\n",
       "    </tr>\n",
       "    <tr>\n",
       "      <th>14</th>\n",
       "      <td>National Instruments</td>\n",
       "      <td>National InstrumentsBuild the future. Build yo...</td>\n",
       "      <td>Business Application Development Intern 2018</td>\n",
       "      <td>Indeed</td>\n",
       "      <td>Austin TX</td>\n",
       "      <td>/rc/clk?jk=d77449177cfb64e1&amp;fccid=9f94228dbf8b...</td>\n",
       "    </tr>\n",
       "    <tr>\n",
       "      <th>15</th>\n",
       "      <td>National instrument</td>\n",
       "      <td>National InstrumentsBuild the future. Build yo...</td>\n",
       "      <td>Business Application Development Intern 2018</td>\n",
       "      <td>Indeed</td>\n",
       "      <td>Austin TX</td>\n",
       "      <td>/rc/clk?jk=5d15580167f2b46b&amp;fccid=263d9a07b538...</td>\n",
       "    </tr>\n",
       "  </tbody>\n",
       "</table>\n",
       "</div>"
      ],
      "text/plain": [
       "                    company  \\\n",
       "0                       IBM   \n",
       "1                       IBM   \n",
       "2                       IBM   \n",
       "3                       IBM   \n",
       "4                       IBM   \n",
       "5           Texan by Nature   \n",
       "6                CDK Global   \n",
       "7   Colorado River Alliance   \n",
       "8            Charles Schwab   \n",
       "9               Nano Global   \n",
       "10          Rocket Software   \n",
       "11          Rocket Software   \n",
       "12                     CACI   \n",
       "13                Atlassian   \n",
       "14     National Instruments   \n",
       "15      National instrument   \n",
       "\n",
       "                                      job_description  \\\n",
       "0   Job Description\\nIBM LOGO\\nDO YOUR BEST WORK E...   \n",
       "1   Job Description\\nIBM LOGO\\nDO YOUR BEST WORK E...   \n",
       "2   Job Description\\nIBM LOGO\\nDO YOUR BEST WORK E...   \n",
       "3   Job Description\\nIBM LOGO\\nDO YOUR BEST WORK E...   \n",
       "4   Job Description\\nIBM LOGO\\nDO YOUR BEST WORK E...   \n",
       "5   Data Analysis Intern job - Texan by Nature - A...   \n",
       "6   Software Development Internship - Austin\\nEngl...   \n",
       "7   Program Coordinator #0007 job at Colorado Rive...   \n",
       "8   2018 Schwab Intern Academy: Analytics and Busi...   \n",
       "9   Nano Global - Jobs: Engineering Product Develo...   \n",
       "10  Rocket Software Careers\\nHomeCareersAbout Rock...   \n",
       "11  Rocket Software Careers\\nHomeCareersAbout Rock...   \n",
       "12  Software Developer Internship\\nin\\nAustin, TX\\...   \n",
       "13  Atlassian 2018 Summer Software Developer Inter...   \n",
       "14  National InstrumentsBuild the future. Build yo...   \n",
       "15  National InstrumentsBuild the future. Build yo...   \n",
       "\n",
       "                                            job_title jobsite  \\\n",
       "0                      2018 Data Scientist Internship  Indeed   \n",
       "1               2018 Senior Data Scientist Internship  Indeed   \n",
       "2   Cognitive / AI / Machine Learning Software Dev...  Indeed   \n",
       "3   2018 Sr. Cognitive /AI/ Machine Learning Softw...  Indeed   \n",
       "4                      Watson Health - Data Scientist  Indeed   \n",
       "5                                Data Analysis Intern  Indeed   \n",
       "6            Software Development Internship - Austin  Indeed   \n",
       "7                                 Program Coordinator  Indeed   \n",
       "8   2018 Schwab Intern Academy: Analytics and Busi...  Indeed   \n",
       "9              Engineering Product Development Intern  Indeed   \n",
       "10                Data Scientist Intern (Summer 2018)  Indeed   \n",
       "11              Machine Learning Intern (Summer 2018)  Indeed   \n",
       "12                      Software Developer Internship  Indeed   \n",
       "13  2018 Summer Software Developer Intern - Austin TX  Indeed   \n",
       "14       Business Application Development Intern 2018  Indeed   \n",
       "15       Business Application Development Intern 2018  Indeed   \n",
       "\n",
       "                            location  \\\n",
       "0                    Austin TX 73344   \n",
       "1                    Austin TX 73344   \n",
       "2                    Austin TX 73344   \n",
       "3                    Austin TX 73344   \n",
       "4                    Austin TX 73344   \n",
       "5                          Austin TX   \n",
       "6                          Austin TX   \n",
       "7                          Austin TX   \n",
       "8                    Austin TX 73344   \n",
       "9                          Austin TX   \n",
       "10                         Austin TX   \n",
       "11                         Austin TX   \n",
       "12  Austin TX 78759 (Arboretum area)   \n",
       "13                         Austin TX   \n",
       "14                         Austin TX   \n",
       "15                         Austin TX   \n",
       "\n",
       "                                                  url  \n",
       "0   /rc/clk?jk=7efe33d6388ee124&fccid=de71a49b535e...  \n",
       "1   /rc/clk?jk=c9d2d46405354ccd&fccid=de71a49b535e...  \n",
       "2   /rc/clk?jk=f703d866bcbe77f9&fccid=de71a49b535e...  \n",
       "3   /rc/clk?jk=b498447940edee49&fccid=de71a49b535e...  \n",
       "4   /rc/clk?jk=c1bc88d1fbfd8c88&fccid=de71a49b535e...  \n",
       "5   /company/Texan-by-Nature/jobs/Data-Analysis-In...  \n",
       "6   /rc/clk?jk=1cebb889b301d804&fccid=cf4c744760f4...  \n",
       "7   /rc/clk?jk=c043d42b087af77e&fccid=1153f9b6a570...  \n",
       "8   /rc/clk?jk=16079903e7c0f8c6&fccid=3c74eafe288f...  \n",
       "9   /rc/clk?jk=eee8a480cce817fd&fccid=ee3c12953393...  \n",
       "10  /rc/clk?jk=714676ddbd902349&fccid=f9684e7d32b8...  \n",
       "11  /rc/clk?jk=00a38c7959224bff&fccid=f9684e7d32b8...  \n",
       "12  /rc/clk?jk=6e38c6fe54d5bbb4&fccid=290a4498a64f...  \n",
       "13  /rc/clk?jk=aad2c4a5eff31e29&fccid=e6d4ba9e2cfe...  \n",
       "14  /rc/clk?jk=d77449177cfb64e1&fccid=9f94228dbf8b...  \n",
       "15  /rc/clk?jk=5d15580167f2b46b&fccid=263d9a07b538...  "
      ]
     },
     "execution_count": 80,
     "metadata": {},
     "output_type": "execute_result"
    }
   ],
   "source": [
    "df"
   ]
  },
  {
   "cell_type": "code",
   "execution_count": 83,
   "metadata": {},
   "outputs": [
    {
     "data": {
      "text/plain": [
       "\"Software Developer Internship\\nin\\nAustin, TX\\n| CACI International\\nSmall Business\\xa0\\xa0|\\nSuppliers\\nAbout Us\\n|\\nWhat We Do\\n|\\nMedia & Events\\n|\\nInvestors\\n|\\nCareers\\n|\\nContracts\\n|\\nContact Us\\nJoin Our Talent Network\\nAbout Us\\nWhat We Do\\nMedia & Events\\nInvestors\\nCareers\\nContracts\\nContact Us\\nSmall Business\\nSuppliers\\nCareers\\n| Software Developer Internship - Austin, TX\\nShare This Job\\nApply Now\\nSoftware Developer Internship\\nReq #: 200563\\nLocation:\\nAustin,\\nTX\\nUS\\nJob Category: Administration\\nSecurity Clearance: None\\nClearance Status: Not Applicable\\nJob DescriptionSoftware Developer Internship\\xa0Internship Opportunity: Are you a problem solver, ready for a challenge this summer? Ticom Geomatics (TGI) is seeking 2018 Summer Interns for Software Developer Internships! TGI is an Austin-based company and recognized industry leader providing Mission-Ready Geolocation and ISR Systems and Services to Government and Industry. Through our Intern program's on the job training and mentorship, you will gain experience with cutting edge technology alongside engineers and computer scientists.About the Team: The Software Development Group is responsible for maintaining and enhancing large distributed systems and developing software for future products and systems.\\xa0 Responsibilities include developing new server applications, maintenance of existing applications, interfacing with the system's data repository, and developing new user interface visualizations and workflows.What you'll get to do:Description: This position is for individuals interested in a broad area of Software Development. The ideal candidate should have strong academic credentials and experience working in a teamwork environment and have not only academic, but also interpersonal skills to help optimize our teams. The single most important attribute is an inquisitive nature and a strong desire to learn real world applications to compliment your academic experience. Familiarity with hardware or software tools should be appropriate for your academic level.\\xa0 The internship will be ~11 weeks in the summer of 2018.\\xa0You’ll Bring These Qualifications:-\\xa0Current status as a Sophomore, Junior, or Senior-\\xa0Minimum of 3.2 GPA-\\xa0Must be a US Citizen, as required by US Government Contracts-\\xa0Requires 0-2 years of experience and must be pursuing a Bachelors or Master's degree in Electrical Engineering, Computer Engineering, Signal Processing, Physics, Math, Computer Science, or a related degreeThese Qualifications Would be Nice to Have:-\\xa0Java programming of JEE or servlet-based applications-\\xa0JavaScript development-\\xa0C/C++ development-\\xa0Linux/Unix operating systemsWhat We Can Offer You:- We’ve been named a Best Place to Work by the Washington Post.- Our employees value the flexibility at CACI that allows them to balance quality work and their personal lives.- We offer competitive benefits and learning and development opportunities.- We are mission-oriented and ever vigilant in aligning our solutions with the nation’s highest priorities.- For over 55 years, the principles of CACI’s unique, character-based culture have been the driving force behind our success.Job LocationUS-Austin-TX-AUSTIN\\nCACI employs a diverse range of talent to create an environment that fuels innovation and fosters continuous improvement and success. At CACI, you will have the opportunity to make an immediate impact by providing information solutions and services in support of national security missions and government transformation for Intelligence, Defense, and Federal Civilian customers. CACI is proud to provide dynamic careers for employees worldwide. CACI is an Equal Opportunity Employer - Females/Minorities/Protected Veterans/Individuals with Disabilities.\\nApply Now\\nLink for schema\\nFeatured Careers\\nExplore our featured opportunities available on multiple current and future programs.Take A Look\\nBenefits\\nCACI is proud to provide benefits that address your and your family's needs, today and for the future.Explore\\nHiring Events\\nVisit us at an upcoming hiring event to learn more about what makes us an employer of choice.View Calendar\\nOur Culture\\nCACI has a vibrant culture and strong foundation of innovation - firmly based on ethics and integrity.Learn More\\nTalent Network\\nJoin our Talent Network to be notified of events and careers at CACI.\\nSubscribe Today\\nEqual Opportunity Employer\\xa0|\\nE-Verify\\xa0|\\nRecruitment Fraud Alert\\xa0\\xa0|\\nFAQs\\xa0\\xa0|\\n© 2017 CACI International \\xa0|\\nTerms of Use \\xa0|\\nPowered by SmashFly\""
      ]
     },
     "execution_count": 83,
     "metadata": {},
     "output_type": "execute_result"
    }
   ],
   "source": [
    "df[\"job_description\"].iloc[12]"
   ]
  },
  {
   "cell_type": "code",
   "execution_count": 43,
   "metadata": {
    "collapsed": true
   },
   "outputs": [],
   "source": [
    "def url_req(i):\n",
    "    url2 = df[\"url\"].iloc[i]\n",
    "    page = requests.get(''.join([\"https://www.indeed.com\", url2]))\n",
    "    return BeautifulSoup(page.text, \"html.parser\")"
   ]
  },
  {
   "cell_type": "code",
   "execution_count": 59,
   "metadata": {},
   "outputs": [
    {
     "data": {
      "text/plain": [
       "'/rc/clk?jk=7efe33d6388ee124&fccid=de71a49b535e21cb'"
      ]
     },
     "execution_count": 59,
     "metadata": {},
     "output_type": "execute_result"
    }
   ],
   "source": [
    "url = df[\"url\"].iloc[0]\n",
    "url"
   ]
  },
  {
   "cell_type": "code",
   "execution_count": 60,
   "metadata": {
    "collapsed": true
   },
   "outputs": [],
   "source": [
    "page = requests.get(''.join([\"https://www.indeed.com\", url]))"
   ]
  },
  {
   "cell_type": "code",
   "execution_count": 61,
   "metadata": {
    "collapsed": true
   },
   "outputs": [],
   "source": [
    "soup = BeautifulSoup(page.text, \"html.parser\")"
   ]
  },
  {
   "cell_type": "code",
   "execution_count": 62,
   "metadata": {},
   "outputs": [
    {
     "data": {
      "text/plain": [
       "'\\n\\n\\n\\n\\r\\n        body\\r\\n        {\\r\\n            font-family: Arial, Verdana;\\r\\n            font-size: 12px;\\r\\n        }\\r\\n        .title\\r\\n        {\\r\\n            font-style: italic;\\r\\n            font-size: 16px;\\r\\n        }\\r\\n        .error\\r\\n        {\\r\\n            padding-left: 5px;\\r\\n            color: #FF0000;\\r\\n        }\\r\\n    \\n\\r\\n        function tn_ShowPopupMessage(sender, msg) {\\r\\n            var r = $find(\\'rttMsg\\');\\r\\n            r.set_content(\\'<div class=\"tnReferralMsg\">\\' + msg + \\'</div>\\');\\r\\n            setTimeout(function () { r.show(); }, 100);\\r\\n        }\\r\\n\\r\\n        function DisableButtons() {\\r\\n            var inputs = document.getElementsByTagName(\"INPUT\");\\r\\n            for (var i in inputs) {\\r\\n                if (inputs[i].type === \"button\" || inputs[i].type === \"submit\") {\\r\\n                    inputs[i].disabled = true;\\r\\n                }\\r\\n            }\\r\\n        }\\r\\n\\r\\n        window.onbeforeunload = DisableButtons;\\r\\n    \\n\\r\\n@font-face {\\n    font-family: \"icons-ibm-v11\";\\n    src: url(\"https://1.www.s81c.com/common/fonts/icons-ibm-v11.eot\");\\n    src: url(\"https://1.www.s81c.com/common/fonts/icons-ibm-v11.eot?#iefix\") format(\"embedded-opentype\"), url(\"https://1.www.s81c.com/common/fonts/icons-ibm-v11.woff\") format(\"woff\"), url(\"https://1.www.s81c.com/common/fonts/icons-ibm-v11.ttf\") format(\"truetype\"), url(\"https://1.www.s81c.com/common/fonts/icons-ibm-v11.svg#icons-ibm-v11\") format(\"svg\");\\n    font-weight: normal;\\n    font-style: normal\\n}\\n\\n@media screen and (-webkit-min-device-pixel-ratio:0) {\\n    @font-face {\\n        font-family: \"icons-ibm-v11\";\\n        src: url(\"https://1.www.s81c.com/common/fonts/icons-ibm-v11.svg#icons-ibm-v11\") format(\"svg\")\\n    }\\n}\\n\\n* {\\nbox-sizing: border-box;\\ncolor: #323232;\\nfont-size: 16px;\\nmax-width: 100%;\\n}\\n\\nb {\\n    display: none!important;\\n}\\n\\n#contactForm {\\n    height: 0;\\n    position: relative;\\n    width: 0;\\n    /*overflow: hidden;*/\\n}\\n#form-body {\\n    position: fixed;\\n    top: 0;\\n    bottom: 0;\\n    left: 0;\\n    right: 0;\\n    overflow: auto;\\n    z-index: 2;\\n    background-color: #FFF;\\n}\\nheader {\\npadding: 10px 20px;\\nposition: relative;\\noverflow: hidden;\\n}\\n\\nheader span {\\n   display: block;\\n   height: 60px;\\n   text-indent: -9999px; \\n}\\n\\nheader span::before {\\n    content:\\'\\\\f137\\';\\n    font-family: \\'icons-ibm-v11\\';\\n    font-size:120px;\\n    text-indent: 0;\\n    left: 20px;\\n    position: absolute;\\n}\\n.hero-image {\\n  background-color: #325c80\\npadding: 10px 0px;\\nposition: relative;\\n}\\n\\n.text-overlay {\\nfont-size: 28px;\\n    position: absolute;\\n    left: 50%;\\n    top: 60%;\\n    transform: translate(-50%, -40%);\\n    width: 100%;\\n    text-align: center;\\n}\\n\\n.text-overlay h2 {\\n        color: #fff;\\n        font-size: 40px;\\n        font-weight: bold;\\n        text-shadow: 1px 1px #000;\\n    }\\n\\n.wrap {\\nmargin: 0 auto;\\nmax-width: 980px;\\n}\\n\\n.container {\\ndisplay: flex;\\nflex-wrap: wrap;\\n\\n}\\n\\n.desc-heading {\\ncolor: #4178be;\\nfont-size: 28px;\\nmargin: 10px auto;\\ntext-align: center;\\n}\\n\\n.space-between {\\njustify-content: space-between;\\n}\\n\\n.item {\\nbackground-color: #fff;\\npadding: 15px;\\nflex: 0 1 auto;\\n}\\n\\n.main-body {\\nbackground-color: #fff;\\n}\\n\\n.main-body .item {\\nborder: 1px solid #ccc;\\nflex-basis: 100%;\\n}\\n\\n.disclaimers {\\nfont-size: 14px;\\n}\\n\\n.disclaimers a {\\n    font-size: 14px;\\n}\\n\\n.social {\\n    background: #fff;\\npadding: 25px 0px;\\n}\\n\\n.social h4 {\\ndisplay: block;\\nfont-size: 18px;\\nfont-weight: bold;\\ntext-align: center;\\n}\\n\\n.social .container {\\njustify-content: center;\\n}\\n\\n.social .item {\\n    flex-basis: auto;\\n}\\n\\n.you {\\nbackground-color: rgb(54, 66, 118);\\npadding: 10px;\\n}\\n\\n.you h4 {\\ncolor: #FFF;\\nfont-size: 28px;\\nmargin: 0;\\n}\\n\\nfooter {\\nbackground-color: #f3f3f3;\\nborder-top: 2px solid black;\\n}\\n\\nfooter ul {\\nlist-style-type: none;\\n}\\n\\nfooter li {\\ndisplay: inline;\\n}\\n\\nfooter a {\\ncolor: #5a5a5a;\\ntext-decoration: none;\\npadding: 10px 25px;\\n}\\n\\n#formCtrl_cmd0 {\\ndisplay: block;\\nbackground-color: rgb(54, 66, 118);\\nborder: none;\\ncolor: #fff;\\nmargin: 0 auto;\\npadding:  11px 18px;\\nmin-width: 200px;\\nwidth: auto!important;\\n}\\n\\n#formCtrl_cmd1 {\\nborder: none;\\nbackground: none;\\nwidth: auto!important;\\nmin-width: 200px;\\nmargin: 10px auto;\\ndisplay: block;\\nfont-size: 14px;\\n}\\n\\n#formCtrl_panelBorder {\\n    width: auto!important;\\n}\\n\\n.tn-buttons {\\ntext-align: center;\\n}\\n\\n.tn-fields {\\nwidth: 100%;\\n}\\n\\n.tn-fields-tbl {\\nmargin: 0 ;\\nwidth: 100%;\\n}\\n\\n.tn-fields-tbl input {\\nheight: 35px!important;\\nmin-width: 250px;\\nwidth: 100%!important;\\n}\\n\\n.msg_head:first-of-type {\\ndisplay: none;\\n}\\n\\n.msg_extr {\\ndisplay: inline;\\nline-height: 1.5;\\n}\\n\\n.tn-jobdescription p {\\n    margin: 10px 0px!important;\\n    padding: 0!important;\\n    width: 100%!important;\\n}\\n\\n.tn-jobdescription ul {\\n    margin: 0!important;\\n}\\n\\n.tn-jobdescription > *:not(:first-child) {\\n    display: none;\\n}\\n\\n.read-more {\\n    display: block!important;\\n}\\n\\n.center {\\ntext-align: center;\\n}\\n\\n.ibm-logo {\\n    position: relative;\\n    overflow:hidden;\\n}\\n\\n.ibm-logo span {\\n    display: block;\\n    height: 75px;\\n    width: 100%;\\n    text-indent: -9999px;\\n\\n}\\n\\n.ibm-logo span::before {\\ncontent: \"\\\\f137\";\\nfont-family: \\'icons-ibm-v11\\';\\nfont-size: 140px;\\ntext-indent: 0;\\nleft: 0;\\nright: 0;\\nposition: absolute;\\n}\\n\\n@media screen and (min-width: 769px) {\\n.main-body .item {\\nflex-basis: 48%;\\nmax-width: 48%;\\n}\\n}\\n\\n/*/////////////////////////////////////////////////////////////////////////////////////////////\\nIBM STYLES\\n/////////////////////////////////////////////////////////////////////////////////////////////*/\\n\\na[class*=\\'-link\\'] {\\n    display: block;\\n    float: left;\\n    text-indent: 100px;\\n    height: 1.55em;\\n    width: 1.75em;\\n    position: relative;\\n    overflow: hidden;\\n    font-size: 16px;\\n}\\n\\na[class*=\\'-link\\']::before {\\n    color: #000;\\n    display: inline-block;\\n    font-family: \"icons-ibm-v11\";\\n    font-size: 1.6em;\\n    font-style: normal;\\n    font-weight: normal;\\n    font-variant: normal;\\n    left: -1px;\\n    position: absolute;\\n    text-decoration: none;\\n    speak: none;\\n    text-indent: .5px;\\n    text-rendering: optimizeLegibility;\\n    text-transform: none;\\n    -moz-osx-font-smoothing: grayscale;\\n    -webkit-font-smoothing: antialiased;\\n    font-smoothing: antialiased;\\n}\\n\\n.ibm-blog-link::before,\\n.ibm-blog-encircled-link::before,\\n.ibm-blog-mono-link::before {\\n    content: \"\\\\f10b\"\\n}\\n\\n.ibm-facebook-link::before,\\n.ibm-facebook-encircled-link::before,\\n.ibm-facebook-mono-link::before {\\n    content: \"\\\\f12b\"\\n}\\n\\n.ibm-twitter-link::before,\\n.ibm-twitter-encircled-link::before,\\n.ibm-twitter-mono-link::before {\\n    content: \"\\\\f176\"\\n}\\n\\n.ibm-linkedin-link::before,\\n.ibm-linkedin-encircled-link::before,\\n.ibm-linkedin-mono-link::before {\\n    content: \"\\\\f13d\"\\n}\\n\\n.ibm-instagram-link::before,\\n.ibm-instagram-encircled-link::before,\\n.ibm-instagram-mono-link::before {\\n    content: \"\\\\f139\"\\n}\\n\\n.ibm-youtube-link::before,\\n.ibm-youtube-encircled-link::before,\\n.ibm-youtube-mono-link::before {\\n    content: \"\\\\f181\"\\n}\\r\\n\\r\\n\\tJob Description\\r\\n\\n\\n\\n\\n\\n\\n\\n\\n\\r\\n//<![CDATA[\\r\\n(window.Sys && Sys._Application && Sys.Observer)||document.write(\\'<script type=\"text/javascript\" src=\"/ScriptResource.axd?d=D9drwtSJ4hBA6O8UhT6CQgcaAnid9UTLaq2GkYm-TR6zHKGpKJBy-eWLPGF22xAvB5bYkClTyMGrrpKy8p6iN06n7q7kt9b186jflIQXlZwrNBD2u3s3SXZ-s_1kAKQN5W9YqvWkUuWC9NyZsX5ErDRW0REUsIe3ZSGRHeejPfY1&t=3d6efc1f\"><\\\\/script>\\');//]]>\\r\\n\\n\\r\\n//<![CDATA[\\r\\nif (typeof(Sys) === \\'undefined\\') throw new Error(\\'ASP.NET Ajax client-side framework failed to load.\\');\\r\\n//]]>\\r\\n\\n\\n\\n\\n\\n\\n\\n\\n\\n\\n\\n\\n $ = $telerik.$; jQuery = $; \\n\\n\\n\\n\\n//<![CDATA[\\nif (typeof(WebForm_AutoFocus) != \\'undefined\\')\\r\\n{\\r\\n\\tvar old_WebForm_AutoFocus = WebForm_AutoFocus;\\r\\n\\tWebForm_AutoFocus = function(arg)\\r\\n\\t{\\r\\n\\t\\tSys.Application.add_load(function()\\r\\n\\t\\t{\\r\\n\\t\\t\\told_WebForm_AutoFocus(arg);\\r\\n\\t\\t\\tWebForm_AutoFocus = old_WebForm_AutoFocus;\\r\\n\\t\\t});\\r\\n\\t}\\r\\n}\\r\\nif (typeof(Telerik) != \\'undefined\\' && Type.isNamespace(Telerik.Web))\\r\\n{\\r\\n\\tif (Telerik.Web.UI.RadFormDecorator)\\r\\n\\t{\\r\\n\\t\\tTelerik.Web.UI.RadFormDecorator.initializePage(\"formDecorator\", \"\", \"Default\", 4);\\r\\n\\t}\\r\\n}\\n//]]>\\n\\n\\n\\n\\n\\n\\n\\n\\n\\n\\xa0\\n\\n\\n\\n\\xa0\\n\\n\\n\\n\\nIBM LOGO\\n\\n\\n\\nDO YOUR BEST WORK EVER.\\n\\n\\n\\n\\n\\n\\nJob DescriptionSTART AND END DATES FOR THIS INTERNSHIP ARE SPRING 2018 (6 Months), SUMMER 2018 (3 Months) and FALL 2018 (6 Months)At IBM we have an amazing opportunity to transform the world with cognitive technology.  By using the vast amounts of information available today to identify new patterns and make new discoveries, we are helping cities become smarter, hospitals transform patient care, financial institutions minimize risk, and pharmaceuticals find cures for rare diseases.  Join the forward-thinking teams at IBM solving some of the world’s most complex problems – there is no better place to grow your career!Data Scientist Interns extract knowledge or insights from structured or unstructured data.  They draw upon the practice of data analysis, using predictive analytics, data mining, pattern recognition, data modeling, machine learning and various statistical methods in order to solve large scale optimization problems and to understand the meaning behind vast data setsData Scientist Interns are in demand across IBM\\'s growth areas.  You\\'ll be matched and deployed to a team in a strategic business, based on your offered location and fit.  These are office-based positions in IBM locations including:AZ - PhoenixCA - Almaden, Costa Mesa, Emeryville, Foster City, Redwood City, San Francisco, San JoseCO - DenverGA - AtlantaIL - ChicagoMA - Andover, Cambridge, LittletonMI - Ann ArborMN - RochesterNC - Raleigh-DurhamNY - New York City, North Castle, Poughkeepsie, Yorktown HeightsOH - Cleveland, Dublin, HartlandOR - HillsboroPA - Blue Bell, PittsburghTX - Austin, DallasVT - Essex JunctionOpportunities in these locations will vary based on business demand. What You’ll Do:You will implement and validate predictive models, and create and maintain statistical models with a focus on big data.You’ll communicate with internal and external clients to understand business needs and provide analytical solutions.You will use statistical concepts such as regression, time series, mixed model, Bayesian methods, clustering, etc., to analyze data and provide insights.You’ll work in an Agile, collaborative environment, partnering with other scientists, engineers, and database administrators of all backgrounds and disciplines to bring analytical rigor and statistical methods to the challenges of predicting behaviors.  Who You Are:You are great at solving problems; debugging; troubleshooting; and designing & implementing solutions to complex technical issues. You thrive on teamwork and have excellent verbal and written communication skills.  You have strong technical and analytical abilities, a knack for driving impact and growth, and some experience with programming/scripting in a language such as Java or Python.You have a basic understanding of statistical programming in a language such as R,  SAS, or Python.Required Technical and Professional ExpertiseMust have basic knowledge of statistical concepts such as regression, time series, mixed model, Bayesian methods, clustering, etc., to analyze data and provide insights. Must have basic understanding of statistical programming in a language such as R,  SAS, or Python.Preferred Tech and Prof ExperienceWilling to travel up to 10%Bachelors or Masters DegreeEO StatementIBM  is committed to creating a diverse environment and is proud to be an equal opportunity employer. All qualified applicants will receive consideration for employment without regard to race, color, religion, gender, gender identity or expression, sexual orientation, national origin, genetics, disability, age, or veteran status. IBM is also committed to compliance with all fair employment practices regarding citizenship and immigration status.\\n\\n\\nPlease join our community so you can receive relevant career information.\\n*First Name*Last Name*Primary Email\\n\\nBy clicking \"Connect\" you agree to receive career opportunity information at IBM. Your information will be kept confidential and will never be distributed or sold to any third party.\\n\\n\\xa0\\xa0\\n©IBM\\n\\n\\n\\n\\n\\n\\n\\nTHIS IS YOU TO THE POWER OF IBM.\\n\\n\\n\\n\\nFollow us\\n\\n\\nLinkedin\\n\\n\\nFacebook\\n\\n\\nTwitter\\n\\n\\nYoutube\\n\\n\\nibm-instagram-link\\n\\n\\nBlog\\n\\n\\n\\n\\n\\n\\n\\nContact\\nPrivacy\\nTerms of Use\\nAccessibility\\n\\n\\n\\n\\n\\n$(document).ready(function(){\\n$(\\'#formCtrl_cmd0\\').attr(\\'value\\', \\'Connect\\');//Change button label\\n$(\"p\").filter( function() {\\n    return $.trim($(this).html()) == \\'\\';\\n}).remove();\\n$(\\'.tn-jobdescription\\').append(\\'<a class=\"read-more\" href=\"#\">Read More</a>\\');\\n$(\\'.read-more\\').click(function(){\\n$(\\'.tn-jobdescription :not(:first-child)\\').slideToggle();\\n$(this).text($(this).text() == \\'Read More\\' ? \\'Read Less\\' : \\'Read More\\');\\n})\\n})\\n \\n\\n\\xa0\\n\\n\\n\\n\\xa0\\n\\n\\n\\n\\n\\r\\n//<![CDATA[\\r\\nvar formTypes = {Id:991,IsDefault:true,IsDefaultExternalEventForm:false,IsDefaultInternalEventForm:false,IsDefaultMobile:false,IsDefaultOnSiteEventForm:false,IsDefaultReferral:false,IsDefaultSponsor:false};\\r\\n\\t\\t\\t\\t\\tif($telerik.$){\\r\\n\\t\\t\\t\\t\\t\\t$telerik.$(\".msg_body\").hide();\\r\\n\\t\\t\\t\\t\\t\\t$telerik.$(\".msg_head\").click(function()\\r\\n\\t\\t\\t\\t\\t\\t{\\r\\n\\t\\t\\t\\t\\t\\t\\tvar body = $telerik.$(this).parent().children(\".msg_body:first\");\\r\\n\\t\\t\\t\\t\\t\\t\\tvar extr = $telerik.$(this).parent().children(\".msg_extr:first\");\\r\\n\\t\\t\\t\\t\\t\\t\\tif($telerik.$(body).is(\":visible\")){\\r\\n\\t\\t\\t\\t\\t\\t\\t\\t$telerik.$(body).hide();\\r\\n\\t\\t\\t\\t\\t\\t\\t\\t$telerik.$(\".msg_head\").html(\"read more >>\");\\r\\n\\t\\t\\t\\t\\t\\t\\t\\t$telerik.$(extr).show();\\r\\n\\t\\t\\t\\t\\t\\t\\t}\\r\\n\\t\\t\\t\\t\\t\\t\\telse{\\r\\n\\t\\t\\t\\t\\t\\t\\t\\t$telerik.$(extr).hide();\\r\\n\\t\\t\\t\\t\\t\\t\\t\\t$telerik.$(body).slideToggle(600);\\r\\n\\t\\t\\t\\t\\t\\t\\t\\t$telerik.$(\".msg_head\").html(\"<< read less\");\\r\\n\\t\\t\\t\\t\\t\\t\\t}\\r\\n\\t\\t\\t\\t\\t\\t});\\r\\n\\t\\t\\t\\t\\t}\\r\\n\\t\\t\\t\\t\\telse {\\r\\n\\t\\t\\t\\t\\t\\t$(\".msg_body\").hide();\\r\\n\\t\\t\\t\\t\\t\\t$(\".msg_head\").click(function()\\r\\n\\t\\t\\t\\t\\t\\t{\\r\\n\\t\\t\\t\\t\\t\\t\\tvar body = $(this).parent().children(\".msg_body:first\");\\r\\n\\t\\t\\t\\t\\t\\t\\tvar extr = $(this).parent().children(\".msg_extr:first\");\\r\\n\\t\\t\\t\\t\\t\\t\\tif($(body).is(\":visible\")){\\r\\n\\t\\t\\t\\t\\t\\t\\t\\t$(body).hide();\\r\\n\\t\\t\\t\\t\\t\\t\\t\\t$(\".msg_head\").html(\"read more >>\");\\r\\n\\t\\t\\t\\t\\t\\t\\t\\t$(extr).show();\\r\\n\\t\\t\\t\\t\\t\\t\\t}\\r\\n\\t\\t\\t\\t\\t\\t\\telse{\\r\\n\\t\\t\\t\\t\\t\\t\\t\\t$(body).slideToggle(600);\\r\\n\\t\\t\\t\\t\\t\\t\\t\\t$(\".msg_head\").html(\"<< read less\"); \\r\\n\\t\\t\\t\\t\\t\\t\\t\\t$(extr).hide();\\r\\n\\t\\t\\t\\t\\t\\t\\t}\\r\\n\\t\\t\\t\\t\\t\\t});\\r\\n\\t\\t\\t\\t\\t} \\n $(document).ready(function () { var valFn= $(\"#form1\").validate;\\r\\n                    if (valFn!=null)\\r\\n                    {\\r\\n                        $.validator.messages.required = \"* required\";\\r\\n                        $.validator.messages.email = \"* invalid email\";\\r\\n                        $.validator.messages.accept = \"* accepted files: doc,docx,txt,pdf,html\";\\r\\n                        valFn();\\r\\n                    }\\r\\n                 }); Sys.Application.add_init(function() {\\r\\n    $create(Telerik.Web.UI.RadFormDecorator, {\"_renderMode\":1,\"clientStateFieldID\":\"formDecorator_ClientState\",\"decoratedControls\":4,\"enabled\":true,\"skin\":\"Default\"}, null, null, $get(\"formDecorator\"));\\r\\n});\\r\\nSys.Application.add_init(function() {\\r\\n    $create(Telerik.Web.UI.RadToolTip, {\"_cssClass\":\"\",\"_manualCloseButtonText\":\"Close\",\"clientStateFieldID\":\"rttMsg_ClientState\",\"formID\":\"form1\",\"hideEvent\":4,\"position\":22,\"relativeTo\":2,\"showCallout\":false,\"showEvent\":16,\"skin\":\"Default\",\"width\":\"800px\"}, null, null, $get(\"rttMsg\"));\\r\\n});\\r\\n//]]>\\r\\n\\n\\n\\r\\n        $(document).ready(function () {\\r\\n            $.validator.addMethod(\"sfemail\", function(value, element) {\\r\\n                var re = new RegExp(\"\\\\\\\\w+([-+.]\\\\\\\\w+)*@\\\\\\\\w+([-.]\\\\\\\\w+)*\\\\\\\\.\\\\\\\\w+([-.]\\\\\\\\w+)*\", \"gi\");\\r\\n\\r\\n                return this.optional( element ) || re.test( value );\\r\\n                }, \"A valid email is required.\");\\r\\n\\r\\n            $(\"form\").validate({\\r\\n                submitHandler: function() {\\r\\n                    var isSkip = $($(\"form\").data(\"validator\").submitButton).hasClass(\"cancel\");\\r\\n\\r\\n                    return isSkip || $(\"form\").valid();\\r\\n                }\\r\\n            });\\r\\n\\r\\n            $(\"[email=true][required=true]\")\\r\\n                .rules(\"add\", {\\r\\n                    sfemail: true\\r\\n                });\\r\\n\\r\\n            $(\"[required=true]\")\\r\\n                .rules(\"add\", {\\r\\n                    required: true\\r\\n                });\\r\\n\\r\\n            $.validator.messages.required = \"This field is required.\";\\r\\n            $.validator.messages.email = \"A valid email is required.\";\\r\\n        });\\r\\n    \\n\\n\\n'"
      ]
     },
     "execution_count": 62,
     "metadata": {},
     "output_type": "execute_result"
    }
   ],
   "source": [
    "soup.text"
   ]
  },
  {
   "cell_type": "code",
   "execution_count": 54,
   "metadata": {
    "collapsed": true
   },
   "outputs": [],
   "source": [
    "soup = url_req(10)"
   ]
  },
  {
   "cell_type": "code",
   "execution_count": 58,
   "metadata": {},
   "outputs": [
    {
     "data": {
      "text/plain": [
       "'\\n\\n\\nRocket Software Careers\\n\\n\\n\\n\\n\\nfunction clear_search() {document.search_form.search_phrase.value= \"\";}\\n\\r\\nwindow.onload=function()\\r\\n{\\r\\n\\r\\nif(\"\"==\"yes\")\\r\\n{\\r\\n  \\r\\n}\\r\\n}\\r\\n\\n\\n\\n\\n\\n\\ntry{Typekit.load();}catch(e){}\\n\\n\\n\\n\\n\\n\\n\\n\\n\\n\\nvar productVersion = \"2017.7\"; var timeoutSeconds = 3600; var timeoutWarningSeconds = 300; var displayTimeWarning = 0; var isCandidateLoggedIn = false; var companyId = 16509; var ep_version = 1;\\n\\n\\n\\n\\n\\n \\n\\n\\n\\n\\n\\n\\n\\n\\n\\n\\n\\n\\nHomeCareersAbout Rocket SoftwareHelpful Hints for Applicants\\n\\n\\n\\n \\n\\n\\nSearch Current OpeningsUpdate Your ProfileCreate a Job AgentUpdate Job Agent\\n\\xa0 \\r\\n\\n\\n\\nYour user session will timeout in 5 minutes.  Please click OK to continue with your application.\\n\\n\\r\\n/* <![CDATA[ */\\r\\nfunction URLReplacePlus(strIn) {\\r\\n\\tvar a = \"+\";\\r\\n\\tvar b = \"%43\";\\r\\n\\tvar c = strIn;\\r\\n\\tvar i = c.indexOf(a);\\r\\n\\tvar l = b.length;\\r\\n\\twhile (i != -1) { c = c.substring(0,i) + b + c.substring(i + a.length,c.length); i = c.indexOf(a,i); }\\r\\n\\treturn c;\\r\\n}\\r\\n\\r\\nfunction emailFriend()\\r\\n{\\r\\n\\tvar loc, coname, jobtitle;\\r\\n\\tconame=document.applyjob.companyname.value;\\r\\n\\tconame=URLReplacePlus(coname);\\r\\n\\tconame=escape(coname);\\r\\n\\tjobtitle=document.applyjob.job_title.value;\\r\\n\\tjobtitle=URLReplacePlus(jobtitle);\\r\\n\\tjobtitle=escape(jobtitle);\\r\\n\\r\\n\\tvar applyJob = document.getElementById(\"applyJob\");\\r\\n\\tvar jobid = applyJob.jobid.value;\\r\\n\\tvar source = applyJob.source.value;\\r\\n\\tvar jobOwner = applyJob.JobOwner.value;\\r\\n\\tvar version = applyJob.version.value;\\r\\n\\r\\n\\tvar jobAttrib = \"jobid=\" + jobid + \"&source=\" + source + \"&jobOwner=\" + jobOwner;\\r\\n\\r\\n\\tloc = \"http://rocketsoftware-openhire.silkroad.com/epostings/submit.cfm?fuseaction=app.mailform&company_id=16509&companyname=\"+coname+\"&job_title=\"+jobtitle+\"&version=1&server=rocketsoftware-openhire.silkroad.com&mapping=/epostings/&showtemp=0&\" + jobAttrib;\\r\\n\\r\\n\\twindow.open(loc,\"emform\",\"resizable=yes,scrollbars=yes,width=650,height=400\");\\r\\n}\\r\\n/* ]]> */\\r\\n\\n\\n\\n\\n\\n\\n\\n\\n\\n\\n\\n\\n\\n\\n\\n\\r\\n\\t\\t\\t\\t\\tData Scientist Intern (Summer 2018)\\r\\n\\t\\t\\t\\t\\n\\n\\r\\n\\t\\t\\t\\t\\t\\tTracking Code\\r\\n\\t\\t\\t\\t\\t\\n\\r\\n\\t\\t\\t\\t\\t\\t1080-509 \\r\\n\\t\\t\\t\\t\\t\\n\\r\\n\\t\\t\\t\\t\\t\\tJob Description\\r\\n\\t\\t\\t\\t\\t\\n\\nRocket Software is building a next generation experience for database and system administration founded on a simple idea: offer our users a substantially more efficient, intelligence augmented and value-added way to accomplish their tasks. As an integral part of a new Advanced Analytics team, you will be responsible for implementing a new, innovative and highly collaborative cross-functional analytics program, by leveraging, extending and introducing new organizational capabilities and technology assets. You will have opportunity to experience working in fast-paced team with ample opportunities to shine.\\n\\xa0\\nThe ideal candidate is a creative and passionate problem-solver who thinks big, acts quickly, and is motivated to develop new approaches to optimizing operational efficiencies using quantitative techniques, machine learning methods, and cutting-edge technology. We are looking for someone with strong experience solving difficult IT and system optimization problems.\\n\\xa0\\nWhat You\\'ll Be Doing:\\n\\xa0\\nEngage broadly with the end-users to frame, structure and prioritize operational efficiency problems where analytic projects or tools can have the biggest impact for the end-user\\'s efficiency.Help the senior data scientist perform large-scale statistical research, analysis, and modeling in the areas of machine data (activity records, interaction graphs, performance data, etc.), optimizations, forecasting, and anomaly detection.Work closely with a team of machine learning engineers to deploy and maintain models in production environments. Implement optimization algorithms, working with cross-functional teams to develop and deploy models as needed\\n\\n\\r\\n\\t\\t\\t\\t\\t\\tRequired Skills\\r\\n\\t\\t\\t\\t\\t\\n\\nWhat You\\'ll Bring:\\n\\xa0\\nExperience working with SQL and NOSQL data sources\\nExperience working with Spark, Hadoop\\nFluent with experimental design\\nFluency with statistical and machine learning algorithms such as decision trees, neural networks, collaborative filtering, clustering, survival analysis, graph theory, etc.\\nExperience with deep learning frameworks such as TensorFlow, CNTK, Caffe (preferred)\\nExperience with time series analysis and forecasts\\nKnowledge of visualization tools such as d3.js\\nStrong scripting skills in bash and at least one analytic programming language (python or R)\\nExcellent writing and verbal communication\\nWillingness to push boundaries and be uncomfortable\\n\\xa0\\nWhy Join Us?\\n\\xa0\\nThe internship experience will provide an insider view of how a fast moving, innovative, and entrepreneurial company operates through an exciting and challenging work experience. Our interns will operate as a team to design and build, from the ground up, brand new and innovative applications related to statistical analysis, and supervised machine learning.\\n\\xa0\\nThe “Rocketship” is also designed to give you multiple opportunities to interact with members of Rocket Software’s Executive Team, an invaluable chance to showcase your skills and start building a network of professionals for future internships or post-graduate work.\\n\\xa0\\nOur program includes participation in a professional development program together with other interns with a goal to develop and deliver an executive level presentation to senior members of Rocket Software’s Executive Team at the end of the summer.\\n\\xa0\\nRocket Software Inc. is committed to creating a diverse environment and is proud to be an equal opportunity employer. All qualified applicants will receive consideration for employment without regard to race, color, religion, gender, gender identity or expression, sexual orientation, national origin, genetics, disability, age, or veteran status. Rocket Software Inc. is also committed to compliance with all fair employment practices regarding citizenship and immigration status.\\n\\xa0\\nRocket is committed to working with and providing reasonable accommodation to individuals with physical and mental disabilities.\\xa0 If you need special assistance or an accommodation while seeking employment, please call: 781-577-4321 or send an email to hr@rocketsoftware.com.\\xa0 We will make a determination on your request for reasonable accommodation on a case-by-case basis.\\n\\n\\r\\n\\t\\t\\t\\t\\t\\tJob Location\\r\\n\\t\\t\\t\\t\\t\\n\\r\\n\\t\\t\\t\\t\\t\\tAustin, Texas, United States\\r\\n\\t\\t\\t\\t\\t\\n\\r\\n\\t\\t\\t\\t\\t\\tPosition Type\\r\\n\\t\\t\\t\\t\\t\\n\\r\\n\\t\\t\\t\\t\\t\\tIntern\\r\\n\\t\\t\\t\\t\\t\\n\\n\\n\\n\\n\\r\\n\\t\\t\\t\\t\\t\\t\\tApply\\r\\n\\t\\t\\t\\t\\t\\t\\n\\n\\n\\n\\n\\n\\n\\n\\n\\n\\n\\r\\n\\t\\t\\t\\t\\t\\t\\t\\tConnect\\r\\n\\t\\t\\t\\t\\t\\t\\t\\n\\n\\r\\n\\t\\t\\t\\t\\t\\t\\tWho do you know at\\r\\n\\t\\t\\t\\t\\t\\t\\t\\nRocket Software\\n\\n \\r\\n\\t\\t\\t\\t\\t\\t\\t\\t\\tif (typeof LinkedIn !== \\'undefined\\') {\\r\\n\\t\\t\\t\\t\\t\\t\\t\\t\\t\\tnew LinkedIn.CompanyInsiderPopup(\"linkedInCompanyInsider\", \"\");\\r\\n\\t\\t\\t\\t\\t\\t\\t\\t\\t}\\r\\n\\t\\t\\t\\t\\t\\t\\t\\t\\n\\n\\n\\n\\n\\r\\n\\t\\t\\t\\t\\t\\t\\t\\tShare\\r\\n\\t\\t\\t\\t\\t\\t\\t\\n\\n\\n\\n\\n\\n\\n\\n\\n\\n\\n\\n\\n\\n\\n\\n\\n\\n\\n\\n\\n\\n\\r\\n\\t\\t\\t\\t\\tReturn To Job Listings\\r\\n\\t\\t\\t\\t\\n\\n\\n\\n\\n\\n\\n\\n\\n\\n\\n Contact Us Site Map Legal Privacy Policy \\n\\n Rocket Software develops, licenses, and supports enterprise infrastructure software and solutions.    Rocket services customers in all geographies through our worldwide sales force, support team, and R&D labs.    Our customers deploy our products in these strategic infrastructure domains: application development, application modernization, business intelligence, compliance and security, consumer productivity, database servers, database tools, file transfer, mainframe productivity, network management, publishing and search, SOA and integration, storage management, terminal emulation,   and text mining. \\n © 2012 Rocket Software, Inc. All rights reserved.     Rocket and the Rocket Software logos are registered trademarks of Rocket Software, Inc.     Other product and service names might be trademarks of Rocket Software or other companies. \\n\\n  \\n\\nRocket Software\\n 77 Fourth Avenue \\n    Waltham, MA 02451-1468 \\nt +1 781 577 4321 \\n    w www.rocketsoftware.com \\n    e info@rocketsoftware.com\\n Privacy Policy | Legal\\n\\n\\n\\n\\n\\n\\n\\n\\n\\n\\n\\n\\n\\n'"
      ]
     },
     "execution_count": 58,
     "metadata": {},
     "output_type": "execute_result"
    }
   ],
   "source": [
    "soup.text"
   ]
  },
  {
   "cell_type": "code",
   "execution_count": 74,
   "metadata": {},
   "outputs": [
    {
     "name": "stdout",
     "output_type": "stream",
     "text": [
      "Job Description\n",
      "IBM LOGO\n",
      "DO YOUR BEST WORK EVER.\n",
      "Job DescriptionSTART AND END DATES FOR THIS INTERNSHIP ARE SPRING 2018 (6 Months), SUMMER 2018 (3 Months) and FALL 2018 (6 Months)At IBM we have an amazing opportunity to transform the world with cognitive technology.\n",
      "By using the vast amounts of information available today to identify new patterns and make new discoveries, we are helping cities become smarter, hospitals transform patient care, financial institutions minimize risk, and pharmaceuticals find cures for rare diseases.\n",
      "Join the forward-thinking teams at IBM solving some of the world’s most complex problems – there is no better place to grow your career!Data Scientist Interns extract knowledge or insights from structured or unstructured data.\n",
      "They draw upon the practice of data analysis, using predictive analytics, data mining, pattern recognition, data modeling, machine learning and various statistical methods in order to solve large scale optimization problems and to understand the meaning behind vast data setsData Scientist Interns are in demand across IBM's growth areas.\n",
      "You'll be matched and deployed to a team in a strategic business, based on your offered location and fit.\n",
      "These are office-based positions in IBM locations including:AZ - PhoenixCA - Almaden, Costa Mesa, Emeryville, Foster City, Redwood City, San Francisco, San JoseCO - DenverGA - AtlantaIL - ChicagoMA - Andover, Cambridge, LittletonMI - Ann ArborMN - RochesterNC - Raleigh-DurhamNY - New York City, North Castle, Poughkeepsie, Yorktown HeightsOH - Cleveland, Dublin, HartlandOR - HillsboroPA - Blue Bell, PittsburghTX - Austin, DallasVT - Essex JunctionOpportunities in these locations will vary based on business demand. What You’ll Do:You will implement and validate predictive models, and create and maintain statistical models with a focus on big data.You’ll communicate with internal and external clients to understand business needs and provide analytical solutions.You will use statistical concepts such as regression, time series, mixed model, Bayesian methods, clustering, etc., to analyze data and provide insights.You’ll work in an Agile, collaborative environment, partnering with other scientists, engineers, and database administrators of all backgrounds and disciplines to bring analytical rigor and statistical methods to the challenges of predicting behaviors.\n",
      "Who You Are:You are great at solving problems; debugging; troubleshooting; and designing & implementing solutions to complex technical issues. You thrive on teamwork and have excellent verbal and written communication skills.\n",
      "You have strong technical and analytical abilities, a knack for driving impact and growth, and some experience with programming/scripting in a language such as Java or Python.You have a basic understanding of statistical programming in a language such as R,\n",
      "SAS, or Python.Required Technical and Professional ExpertiseMust have basic knowledge of statistical concepts such as regression, time series, mixed model, Bayesian methods, clustering, etc., to analyze data and provide insights. Must have basic understanding of statistical programming in a language such as R,\n",
      "SAS, or Python.Preferred Tech and Prof ExperienceWilling to travel up to 10%Bachelors or Masters DegreeEO StatementIBM\n",
      "is committed to creating a diverse environment and is proud to be an equal opportunity employer. All qualified applicants will receive consideration for employment without regard to race, color, religion, gender, gender identity or expression, sexual orientation, national origin, genetics, disability, age, or veteran status. IBM is also committed to compliance with all fair employment practices regarding citizenship and immigration status.\n",
      "Please join our community so you can receive relevant career information.\n",
      "*First Name*Last Name*Primary Email\n",
      "By clicking \"Connect\" you agree to receive career opportunity information at IBM. Your information will be kept confidential and will never be distributed or sold to any third party.\n",
      "©IBM\n",
      "THIS IS YOU TO THE POWER OF IBM.\n",
      "Follow us\n",
      "Linkedin\n",
      "Facebook\n",
      "Twitter\n",
      "Youtube\n",
      "ibm-instagram-link\n",
      "Blog\n",
      "Contact\n",
      "Privacy\n",
      "Terms of Use\n",
      "Accessibility\n"
     ]
    }
   ],
   "source": [
    "import urllib\n",
    "\n",
    "html = requests.get(''.join([\"https://www.indeed.com\", url]))\n",
    "soup = BeautifulSoup(html.text, \"html.parser\")\n",
    "\n",
    "# kill all script and style elements\n",
    "for script in soup([\"script\", \"style\"]):\n",
    "    script.extract()    # rip it out\n",
    "\n",
    "# get text\n",
    "text = soup.get_text()\n",
    "\n",
    "# break into lines and remove leading and trailing space on each\n",
    "lines = (line.strip() for line in text.splitlines())\n",
    "# break multi-headlines into a line each\n",
    "chunks = (phrase.strip() for line in lines for phrase in line.split(\"  \"))\n",
    "# drop blank lines\n",
    "text = '\\n'.join(chunk for chunk in chunks if chunk)\n",
    "print(text)"
   ]
  }
 ],
 "metadata": {
  "kernelspec": {
   "display_name": "Python 3",
   "language": "python",
   "name": "python3"
  },
  "language_info": {
   "codemirror_mode": {
    "name": "ipython",
    "version": 3
   },
   "file_extension": ".py",
   "mimetype": "text/x-python",
   "name": "python",
   "nbconvert_exporter": "python",
   "pygments_lexer": "ipython3",
   "version": "3.6.2"
  }
 },
 "nbformat": 4,
 "nbformat_minor": 2
}
