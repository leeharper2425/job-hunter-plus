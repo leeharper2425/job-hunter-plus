{
 "cells": [
  {
   "cell_type": "code",
   "execution_count": 9,
   "metadata": {
    "collapsed": true
   },
   "outputs": [],
   "source": [
    "from src.utils import import_data\n",
    "import pandas as pd"
   ]
  },
  {
   "cell_type": "code",
   "execution_count": 12,
   "metadata": {},
   "outputs": [],
   "source": [
    "df = import_data(\"job-hunter-plus-data\", \"indeed_data.csv\")"
   ]
  },
  {
   "cell_type": "code",
   "execution_count": 18,
   "metadata": {},
   "outputs": [],
   "source": [
    "states = [\"TX\", \"CA\", \"IL\", \"NY\"]"
   ]
  },
  {
   "cell_type": "code",
   "execution_count": 24,
   "metadata": {
    "scrolled": true
   },
   "outputs": [
    {
     "name": "stdout",
     "output_type": "stream",
     "text": [
      "1234\n",
      "3530\n",
      "2232\n",
      "3734\n"
     ]
    }
   ],
   "source": [
    "for state in states:\n",
    "    num = sum(ser.str.contains(state))\n",
    "    print(num)"
   ]
  },
  {
   "cell_type": "code",
   "execution_count": 27,
   "metadata": {},
   "outputs": [],
   "source": [
    "df[\"label\"] = ser.str.extract(\"(TX|CA|NY|IL)\", expand=True)"
   ]
  },
  {
   "cell_type": "code",
   "execution_count": 30,
   "metadata": {},
   "outputs": [],
   "source": [
    "rep = {\"CA\": 0, \"NY\": 1, \"IL\": 2, \"TX\": 3}"
   ]
  },
  {
   "cell_type": "code",
   "execution_count": 32,
   "metadata": {},
   "outputs": [
    {
     "data": {
      "text/plain": [
       "0        3.0\n",
       "1        3.0\n",
       "2        3.0\n",
       "3        3.0\n",
       "4        3.0\n",
       "5        3.0\n",
       "6        3.0\n",
       "7        3.0\n",
       "8        3.0\n",
       "9        3.0\n",
       "10       3.0\n",
       "11       3.0\n",
       "12       3.0\n",
       "13       3.0\n",
       "14       3.0\n",
       "15       3.0\n",
       "16       3.0\n",
       "17       3.0\n",
       "18       3.0\n",
       "19       3.0\n",
       "20       3.0\n",
       "21       3.0\n",
       "22       3.0\n",
       "23       3.0\n",
       "24       3.0\n",
       "25       3.0\n",
       "26       3.0\n",
       "27       3.0\n",
       "28       3.0\n",
       "29       3.0\n",
       "        ... \n",
       "10732    3.0\n",
       "10733    3.0\n",
       "10734    3.0\n",
       "10735    3.0\n",
       "10736    3.0\n",
       "10737    3.0\n",
       "10738    0.0\n",
       "10739    0.0\n",
       "10740    0.0\n",
       "10741    0.0\n",
       "10742    0.0\n",
       "10743    0.0\n",
       "10744    0.0\n",
       "10745    0.0\n",
       "10746    0.0\n",
       "10747    0.0\n",
       "10748    0.0\n",
       "10749    0.0\n",
       "10750    0.0\n",
       "10751    0.0\n",
       "10752    0.0\n",
       "10753    0.0\n",
       "10754    0.0\n",
       "10755    0.0\n",
       "10756    0.0\n",
       "10757    0.0\n",
       "10758    0.0\n",
       "10759    0.0\n",
       "10760    0.0\n",
       "10761    0.0\n",
       "Name: label, Length: 10762, dtype: float64"
      ]
     },
     "execution_count": 32,
     "metadata": {},
     "output_type": "execute_result"
    }
   ],
   "source": [
    "df[\"label\"].replace(rep)"
   ]
  },
  {
   "cell_type": "code",
   "execution_count": null,
   "metadata": {
    "collapsed": true
   },
   "outputs": [],
   "source": []
  }
 ],
 "metadata": {
  "kernelspec": {
   "display_name": "Python 3",
   "language": "python",
   "name": "python3"
  },
  "language_info": {
   "codemirror_mode": {
    "name": "ipython",
    "version": 3
   },
   "file_extension": ".py",
   "mimetype": "text/x-python",
   "name": "python",
   "nbconvert_exporter": "python",
   "pygments_lexer": "ipython3",
   "version": "3.6.2"
  }
 },
 "nbformat": 4,
 "nbformat_minor": 2
}
