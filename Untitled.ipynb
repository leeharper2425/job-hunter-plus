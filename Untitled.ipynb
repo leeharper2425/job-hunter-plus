{
 "cells": [
  {
   "cell_type": "code",
   "execution_count": 56,
   "metadata": {
    "collapsed": true
   },
   "outputs": [],
   "source": [
    "from src.utils import import_data\n",
    "from src.data_processing import Processing"
   ]
  },
  {
   "cell_type": "code",
   "execution_count": 41,
   "metadata": {
    "collapsed": true
   },
   "outputs": [],
   "source": [
    "df = import_data(\"job-hunter-plus-data\", \"indeed_data.csv\")"
   ]
  },
  {
   "cell_type": "code",
   "execution_count": 42,
   "metadata": {},
   "outputs": [
    {
     "data": {
      "text/html": [
       "<div>\n",
       "<style>\n",
       "    .dataframe thead tr:only-child th {\n",
       "        text-align: right;\n",
       "    }\n",
       "\n",
       "    .dataframe thead th {\n",
       "        text-align: left;\n",
       "    }\n",
       "\n",
       "    .dataframe tbody tr th {\n",
       "        vertical-align: top;\n",
       "    }\n",
       "</style>\n",
       "<table border=\"1\" class=\"dataframe\">\n",
       "  <thead>\n",
       "    <tr style=\"text-align: right;\">\n",
       "      <th></th>\n",
       "      <th>company</th>\n",
       "      <th>job_description</th>\n",
       "      <th>job_title</th>\n",
       "      <th>jobsite</th>\n",
       "      <th>location</th>\n",
       "      <th>search_term</th>\n",
       "      <th>url</th>\n",
       "      <th>city_term</th>\n",
       "    </tr>\n",
       "  </thead>\n",
       "  <tbody>\n",
       "    <tr>\n",
       "      <th>0</th>\n",
       "      <td>Signature Science LLC</td>\n",
       "      <td>Data Scientist - Arlington/Charlottesville, VA...</td>\n",
       "      <td>Data Scientist</td>\n",
       "      <td>Indeed</td>\n",
       "      <td>Austin TX 78759 (Arboretum area)</td>\n",
       "      <td>Data+Scientist</td>\n",
       "      <td>/rc/clk?jk=2a70e352962f25c1&amp;fccid=4810863341d8...</td>\n",
       "      <td>Austin</td>\n",
       "    </tr>\n",
       "    <tr>\n",
       "      <th>1</th>\n",
       "      <td>Signature Science LLC</td>\n",
       "      <td>Epigenetics Specialist - TX - Signature Scienc...</td>\n",
       "      <td>Epigenetics Specialist</td>\n",
       "      <td>Indeed</td>\n",
       "      <td>Austin TX 78759 (Arboretum area)</td>\n",
       "      <td>Data+Scientist</td>\n",
       "      <td>/rc/clk?jk=36f9b37aafc71951&amp;fccid=4810863341d8...</td>\n",
       "      <td>Austin</td>\n",
       "    </tr>\n",
       "    <tr>\n",
       "      <th>2</th>\n",
       "      <td>IBM</td>\n",
       "      <td>Job Description\\nIBM LOGO\\nDO YOUR BEST WORK E...</td>\n",
       "      <td>Watson Health - Data Scientist</td>\n",
       "      <td>Indeed</td>\n",
       "      <td>Austin TX 73344</td>\n",
       "      <td>Data+Scientist</td>\n",
       "      <td>/rc/clk?jk=8eab5bd3b3db414b&amp;fccid=de71a49b535e...</td>\n",
       "      <td>Austin</td>\n",
       "    </tr>\n",
       "    <tr>\n",
       "      <th>3</th>\n",
       "      <td>Clockwork Solutions</td>\n",
       "      <td>Principal Data Scientist - Clockwork Solutions...</td>\n",
       "      <td>Principal Data Scientist</td>\n",
       "      <td>Indeed</td>\n",
       "      <td>Austin TX 78746</td>\n",
       "      <td>Data+Scientist</td>\n",
       "      <td>/rc/clk?jk=c01a61e5b78db340&amp;fccid=3088c7729f5b...</td>\n",
       "      <td>Austin</td>\n",
       "    </tr>\n",
       "    <tr>\n",
       "      <th>4</th>\n",
       "      <td>Clockwork Solutions</td>\n",
       "      <td>Lead Data Scientist - Clockwork Solutions\\nAbo...</td>\n",
       "      <td>Lead Data Scientist</td>\n",
       "      <td>Indeed</td>\n",
       "      <td>Austin TX 78746</td>\n",
       "      <td>Data+Scientist</td>\n",
       "      <td>/rc/clk?jk=8446b3342da7d55a&amp;fccid=3088c7729f5b...</td>\n",
       "      <td>Austin</td>\n",
       "    </tr>\n",
       "  </tbody>\n",
       "</table>\n",
       "</div>"
      ],
      "text/plain": [
       "                 company                                    job_description  \\\n",
       "0  Signature Science LLC  Data Scientist - Arlington/Charlottesville, VA...   \n",
       "1  Signature Science LLC  Epigenetics Specialist - TX - Signature Scienc...   \n",
       "2                    IBM  Job Description\\nIBM LOGO\\nDO YOUR BEST WORK E...   \n",
       "3    Clockwork Solutions  Principal Data Scientist - Clockwork Solutions...   \n",
       "4    Clockwork Solutions  Lead Data Scientist - Clockwork Solutions\\nAbo...   \n",
       "\n",
       "                        job_title jobsite                          location  \\\n",
       "0                  Data Scientist  Indeed  Austin TX 78759 (Arboretum area)   \n",
       "1          Epigenetics Specialist  Indeed  Austin TX 78759 (Arboretum area)   \n",
       "2  Watson Health - Data Scientist  Indeed                   Austin TX 73344   \n",
       "3        Principal Data Scientist  Indeed                   Austin TX 78746   \n",
       "4             Lead Data Scientist  Indeed                   Austin TX 78746   \n",
       "\n",
       "      search_term                                                url city_term  \n",
       "0  Data+Scientist  /rc/clk?jk=2a70e352962f25c1&fccid=4810863341d8...    Austin  \n",
       "1  Data+Scientist  /rc/clk?jk=36f9b37aafc71951&fccid=4810863341d8...    Austin  \n",
       "2  Data+Scientist  /rc/clk?jk=8eab5bd3b3db414b&fccid=de71a49b535e...    Austin  \n",
       "3  Data+Scientist  /rc/clk?jk=c01a61e5b78db340&fccid=3088c7729f5b...    Austin  \n",
       "4  Data+Scientist  /rc/clk?jk=8446b3342da7d55a&fccid=3088c7729f5b...    Austin  "
      ]
     },
     "execution_count": 42,
     "metadata": {},
     "output_type": "execute_result"
    }
   ],
   "source": [
    "df.head()"
   ]
  },
  {
   "cell_type": "code",
   "execution_count": 58,
   "metadata": {},
   "outputs": [],
   "source": [
    "df2 = df.iloc[0:100]"
   ]
  },
  {
   "cell_type": "code",
   "execution_count": 59,
   "metadata": {},
   "outputs": [],
   "source": [
    "P = Processing(stemlem=\"snowball\", num_cities=4)"
   ]
  },
  {
   "cell_type": "code",
   "execution_count": 63,
   "metadata": {},
   "outputs": [],
   "source": [
    "P.fit(df2)"
   ]
  },
  {
   "cell_type": "code",
   "execution_count": 67,
   "metadata": {},
   "outputs": [],
   "source": [
    "X, y = P.transform(df2)"
   ]
  },
  {
   "cell_type": "code",
   "execution_count": null,
   "metadata": {
    "collapsed": true
   },
   "outputs": [],
   "source": [
    "X"
   ]
  }
 ],
 "metadata": {
  "kernelspec": {
   "display_name": "Python 3",
   "language": "python",
   "name": "python3"
  },
  "language_info": {
   "codemirror_mode": {
    "name": "ipython",
    "version": 3
   },
   "file_extension": ".py",
   "mimetype": "text/x-python",
   "name": "python",
   "nbconvert_exporter": "python",
   "pygments_lexer": "ipython3",
   "version": "3.6.2"
  }
 },
 "nbformat": 4,
 "nbformat_minor": 2
}
